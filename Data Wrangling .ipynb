{
 "cells": [
  {
   "cell_type": "code",
   "execution_count": 1,
   "id": "89b08683",
   "metadata": {},
   "outputs": [],
   "source": [
    "import pandas as pd\n",
    "import numpy as np"
   ]
  },
  {
   "cell_type": "markdown",
   "id": "c2dcaddd",
   "metadata": {},
   "source": [
    "# Identification Null Values and Replace by using sklearn and manually"
   ]
  },
  {
   "cell_type": "code",
   "execution_count": 11,
   "id": "19edc2bb",
   "metadata": {},
   "outputs": [],
   "source": [
    "data=pd.read_csv(\"E:/DS/Datasets/Sample_real_estate_data.csv\")"
   ]
  },
  {
   "cell_type": "code",
   "execution_count": 12,
   "id": "45cf8475",
   "metadata": {},
   "outputs": [
    {
     "data": {
      "text/html": [
       "<div>\n",
       "<style scoped>\n",
       "    .dataframe tbody tr th:only-of-type {\n",
       "        vertical-align: middle;\n",
       "    }\n",
       "\n",
       "    .dataframe tbody tr th {\n",
       "        vertical-align: top;\n",
       "    }\n",
       "\n",
       "    .dataframe thead th {\n",
       "        text-align: right;\n",
       "    }\n",
       "</style>\n",
       "<table border=\"1\" class=\"dataframe\">\n",
       "  <thead>\n",
       "    <tr style=\"text-align: right;\">\n",
       "      <th></th>\n",
       "      <th>PID</th>\n",
       "      <th>ST_NUM</th>\n",
       "      <th>ST_NAME</th>\n",
       "      <th>OWN_OCCUPIED</th>\n",
       "      <th>NUM_BEDROOMS</th>\n",
       "      <th>NUM_BATH</th>\n",
       "      <th>SQ_FT</th>\n",
       "    </tr>\n",
       "  </thead>\n",
       "  <tbody>\n",
       "    <tr>\n",
       "      <th>0</th>\n",
       "      <td>100001000.0</td>\n",
       "      <td>104.0</td>\n",
       "      <td>PUTNAM</td>\n",
       "      <td>Y</td>\n",
       "      <td>3</td>\n",
       "      <td>1</td>\n",
       "      <td>1000</td>\n",
       "    </tr>\n",
       "    <tr>\n",
       "      <th>1</th>\n",
       "      <td>100002000.0</td>\n",
       "      <td>197.0</td>\n",
       "      <td>LEXINGTON</td>\n",
       "      <td>N</td>\n",
       "      <td>3</td>\n",
       "      <td>1.5</td>\n",
       "      <td>--</td>\n",
       "    </tr>\n",
       "    <tr>\n",
       "      <th>2</th>\n",
       "      <td>100003000.0</td>\n",
       "      <td>NaN</td>\n",
       "      <td>LEXINGTON</td>\n",
       "      <td>N</td>\n",
       "      <td>NaN</td>\n",
       "      <td>1</td>\n",
       "      <td>850</td>\n",
       "    </tr>\n",
       "    <tr>\n",
       "      <th>3</th>\n",
       "      <td>100004000.0</td>\n",
       "      <td>201.0</td>\n",
       "      <td>BERKELEY</td>\n",
       "      <td>NaN</td>\n",
       "      <td>1</td>\n",
       "      <td>NaN</td>\n",
       "      <td>700</td>\n",
       "    </tr>\n",
       "    <tr>\n",
       "      <th>4</th>\n",
       "      <td>NaN</td>\n",
       "      <td>203.0</td>\n",
       "      <td>BERKELEY</td>\n",
       "      <td>Y</td>\n",
       "      <td>3</td>\n",
       "      <td>2</td>\n",
       "      <td>1600</td>\n",
       "    </tr>\n",
       "  </tbody>\n",
       "</table>\n",
       "</div>"
      ],
      "text/plain": [
       "           PID  ST_NUM    ST_NAME OWN_OCCUPIED NUM_BEDROOMS NUM_BATH SQ_FT\n",
       "0  100001000.0   104.0     PUTNAM            Y            3        1  1000\n",
       "1  100002000.0   197.0  LEXINGTON            N            3      1.5    --\n",
       "2  100003000.0     NaN  LEXINGTON            N          NaN        1   850\n",
       "3  100004000.0   201.0   BERKELEY          NaN            1      NaN   700\n",
       "4          NaN   203.0   BERKELEY            Y            3        2  1600"
      ]
     },
     "execution_count": 12,
     "metadata": {},
     "output_type": "execute_result"
    }
   ],
   "source": [
    "data.head()"
   ]
  },
  {
   "cell_type": "code",
   "execution_count": 13,
   "id": "a2b95d15",
   "metadata": {},
   "outputs": [
    {
     "data": {
      "text/html": [
       "<div>\n",
       "<style scoped>\n",
       "    .dataframe tbody tr th:only-of-type {\n",
       "        vertical-align: middle;\n",
       "    }\n",
       "\n",
       "    .dataframe tbody tr th {\n",
       "        vertical-align: top;\n",
       "    }\n",
       "\n",
       "    .dataframe thead th {\n",
       "        text-align: right;\n",
       "    }\n",
       "</style>\n",
       "<table border=\"1\" class=\"dataframe\">\n",
       "  <thead>\n",
       "    <tr style=\"text-align: right;\">\n",
       "      <th></th>\n",
       "      <th>PID</th>\n",
       "      <th>ST_NUM</th>\n",
       "      <th>ST_NAME</th>\n",
       "      <th>OWN_OCCUPIED</th>\n",
       "      <th>NUM_BEDROOMS</th>\n",
       "      <th>NUM_BATH</th>\n",
       "      <th>SQ_FT</th>\n",
       "    </tr>\n",
       "  </thead>\n",
       "  <tbody>\n",
       "    <tr>\n",
       "      <th>0</th>\n",
       "      <td>100001000.0</td>\n",
       "      <td>104.0</td>\n",
       "      <td>PUTNAM</td>\n",
       "      <td>Y</td>\n",
       "      <td>3</td>\n",
       "      <td>1</td>\n",
       "      <td>1000</td>\n",
       "    </tr>\n",
       "    <tr>\n",
       "      <th>1</th>\n",
       "      <td>100002000.0</td>\n",
       "      <td>197.0</td>\n",
       "      <td>LEXINGTON</td>\n",
       "      <td>N</td>\n",
       "      <td>3</td>\n",
       "      <td>1.5</td>\n",
       "      <td>--</td>\n",
       "    </tr>\n",
       "    <tr>\n",
       "      <th>2</th>\n",
       "      <td>100003000.0</td>\n",
       "      <td>NaN</td>\n",
       "      <td>LEXINGTON</td>\n",
       "      <td>N</td>\n",
       "      <td>NaN</td>\n",
       "      <td>1</td>\n",
       "      <td>850</td>\n",
       "    </tr>\n",
       "    <tr>\n",
       "      <th>3</th>\n",
       "      <td>100004000.0</td>\n",
       "      <td>201.0</td>\n",
       "      <td>BERKELEY</td>\n",
       "      <td>NaN</td>\n",
       "      <td>1</td>\n",
       "      <td>NaN</td>\n",
       "      <td>700</td>\n",
       "    </tr>\n",
       "    <tr>\n",
       "      <th>4</th>\n",
       "      <td>NaN</td>\n",
       "      <td>203.0</td>\n",
       "      <td>BERKELEY</td>\n",
       "      <td>Y</td>\n",
       "      <td>3</td>\n",
       "      <td>2</td>\n",
       "      <td>1600</td>\n",
       "    </tr>\n",
       "    <tr>\n",
       "      <th>5</th>\n",
       "      <td>100006000.0</td>\n",
       "      <td>207.0</td>\n",
       "      <td>BERKELEY</td>\n",
       "      <td>Y</td>\n",
       "      <td>NaN</td>\n",
       "      <td>1</td>\n",
       "      <td>800</td>\n",
       "    </tr>\n",
       "    <tr>\n",
       "      <th>6</th>\n",
       "      <td>100007000.0</td>\n",
       "      <td>NaN</td>\n",
       "      <td>unknown</td>\n",
       "      <td>NaN</td>\n",
       "      <td>2</td>\n",
       "      <td>HURLEY</td>\n",
       "      <td>950</td>\n",
       "    </tr>\n",
       "    <tr>\n",
       "      <th>7</th>\n",
       "      <td>100008000.0</td>\n",
       "      <td>213.0</td>\n",
       "      <td>TREMONT</td>\n",
       "      <td>Y</td>\n",
       "      <td>1</td>\n",
       "      <td>1</td>\n",
       "      <td>NaN</td>\n",
       "    </tr>\n",
       "    <tr>\n",
       "      <th>8</th>\n",
       "      <td>100009000.0</td>\n",
       "      <td>215.0</td>\n",
       "      <td>TREMONT</td>\n",
       "      <td>Y</td>\n",
       "      <td>na</td>\n",
       "      <td>2</td>\n",
       "      <td>1800</td>\n",
       "    </tr>\n",
       "  </tbody>\n",
       "</table>\n",
       "</div>"
      ],
      "text/plain": [
       "           PID  ST_NUM    ST_NAME OWN_OCCUPIED NUM_BEDROOMS NUM_BATH SQ_FT\n",
       "0  100001000.0   104.0     PUTNAM            Y            3        1  1000\n",
       "1  100002000.0   197.0  LEXINGTON            N            3      1.5    --\n",
       "2  100003000.0     NaN  LEXINGTON            N          NaN        1   850\n",
       "3  100004000.0   201.0   BERKELEY          NaN            1      NaN   700\n",
       "4          NaN   203.0   BERKELEY            Y            3        2  1600\n",
       "5  100006000.0   207.0   BERKELEY            Y          NaN        1   800\n",
       "6  100007000.0     NaN    unknown          NaN            2   HURLEY   950\n",
       "7  100008000.0   213.0    TREMONT            Y            1        1   NaN\n",
       "8  100009000.0   215.0    TREMONT            Y           na        2  1800"
      ]
     },
     "execution_count": 13,
     "metadata": {},
     "output_type": "execute_result"
    }
   ],
   "source": [
    "data"
   ]
  },
  {
   "cell_type": "code",
   "execution_count": 90,
   "id": "2ab01ca0",
   "metadata": {},
   "outputs": [],
   "source": [
    "missing_values=['nan','--','unknown','na']"
   ]
  },
  {
   "cell_type": "code",
   "execution_count": 91,
   "id": "69e9f643",
   "metadata": {},
   "outputs": [],
   "source": [
    "data=pd.read_csv(\"E:/DS/Datasets/Sample_real_estate_data.csv\",na_values=missing_values)"
   ]
  },
  {
   "cell_type": "code",
   "execution_count": 92,
   "id": "cda08a70",
   "metadata": {},
   "outputs": [
    {
     "data": {
      "text/html": [
       "<div>\n",
       "<style scoped>\n",
       "    .dataframe tbody tr th:only-of-type {\n",
       "        vertical-align: middle;\n",
       "    }\n",
       "\n",
       "    .dataframe tbody tr th {\n",
       "        vertical-align: top;\n",
       "    }\n",
       "\n",
       "    .dataframe thead th {\n",
       "        text-align: right;\n",
       "    }\n",
       "</style>\n",
       "<table border=\"1\" class=\"dataframe\">\n",
       "  <thead>\n",
       "    <tr style=\"text-align: right;\">\n",
       "      <th></th>\n",
       "      <th>PID</th>\n",
       "      <th>ST_NUM</th>\n",
       "      <th>ST_NAME</th>\n",
       "      <th>OWN_OCCUPIED</th>\n",
       "      <th>NUM_BEDROOMS</th>\n",
       "      <th>NUM_BATH</th>\n",
       "      <th>SQ_FT</th>\n",
       "    </tr>\n",
       "  </thead>\n",
       "  <tbody>\n",
       "    <tr>\n",
       "      <th>0</th>\n",
       "      <td>100001000.0</td>\n",
       "      <td>104.0</td>\n",
       "      <td>PUTNAM</td>\n",
       "      <td>Y</td>\n",
       "      <td>3.0</td>\n",
       "      <td>1</td>\n",
       "      <td>1000.0</td>\n",
       "    </tr>\n",
       "    <tr>\n",
       "      <th>1</th>\n",
       "      <td>100002000.0</td>\n",
       "      <td>197.0</td>\n",
       "      <td>LEXINGTON</td>\n",
       "      <td>N</td>\n",
       "      <td>3.0</td>\n",
       "      <td>1.5</td>\n",
       "      <td>NaN</td>\n",
       "    </tr>\n",
       "    <tr>\n",
       "      <th>2</th>\n",
       "      <td>100003000.0</td>\n",
       "      <td>NaN</td>\n",
       "      <td>LEXINGTON</td>\n",
       "      <td>N</td>\n",
       "      <td>NaN</td>\n",
       "      <td>1</td>\n",
       "      <td>850.0</td>\n",
       "    </tr>\n",
       "    <tr>\n",
       "      <th>3</th>\n",
       "      <td>100004000.0</td>\n",
       "      <td>201.0</td>\n",
       "      <td>BERKELEY</td>\n",
       "      <td>12</td>\n",
       "      <td>1.0</td>\n",
       "      <td>NaN</td>\n",
       "      <td>700.0</td>\n",
       "    </tr>\n",
       "    <tr>\n",
       "      <th>4</th>\n",
       "      <td>NaN</td>\n",
       "      <td>203.0</td>\n",
       "      <td>BERKELEY</td>\n",
       "      <td>Y</td>\n",
       "      <td>3.0</td>\n",
       "      <td>2</td>\n",
       "      <td>1600.0</td>\n",
       "    </tr>\n",
       "    <tr>\n",
       "      <th>5</th>\n",
       "      <td>100006000.0</td>\n",
       "      <td>207.0</td>\n",
       "      <td>BERKELEY</td>\n",
       "      <td>Y</td>\n",
       "      <td>NaN</td>\n",
       "      <td>1</td>\n",
       "      <td>800.0</td>\n",
       "    </tr>\n",
       "    <tr>\n",
       "      <th>6</th>\n",
       "      <td>100007000.0</td>\n",
       "      <td>NaN</td>\n",
       "      <td>NaN</td>\n",
       "      <td>NaN</td>\n",
       "      <td>2.0</td>\n",
       "      <td>HURLEY</td>\n",
       "      <td>950.0</td>\n",
       "    </tr>\n",
       "    <tr>\n",
       "      <th>7</th>\n",
       "      <td>100008000.0</td>\n",
       "      <td>213.0</td>\n",
       "      <td>TREMONT</td>\n",
       "      <td>Y</td>\n",
       "      <td>1.0</td>\n",
       "      <td>1</td>\n",
       "      <td>NaN</td>\n",
       "    </tr>\n",
       "    <tr>\n",
       "      <th>8</th>\n",
       "      <td>100009000.0</td>\n",
       "      <td>215.0</td>\n",
       "      <td>TREMONT</td>\n",
       "      <td>Y</td>\n",
       "      <td>NaN</td>\n",
       "      <td>2</td>\n",
       "      <td>1800.0</td>\n",
       "    </tr>\n",
       "  </tbody>\n",
       "</table>\n",
       "</div>"
      ],
      "text/plain": [
       "           PID  ST_NUM    ST_NAME OWN_OCCUPIED  NUM_BEDROOMS NUM_BATH   SQ_FT\n",
       "0  100001000.0   104.0     PUTNAM            Y           3.0        1  1000.0\n",
       "1  100002000.0   197.0  LEXINGTON            N           3.0      1.5     NaN\n",
       "2  100003000.0     NaN  LEXINGTON            N           NaN        1   850.0\n",
       "3  100004000.0   201.0   BERKELEY           12           1.0      NaN   700.0\n",
       "4          NaN   203.0   BERKELEY            Y           3.0        2  1600.0\n",
       "5  100006000.0   207.0   BERKELEY            Y           NaN        1   800.0\n",
       "6  100007000.0     NaN        NaN          NaN           2.0   HURLEY   950.0\n",
       "7  100008000.0   213.0    TREMONT            Y           1.0        1     NaN\n",
       "8  100009000.0   215.0    TREMONT            Y           NaN        2  1800.0"
      ]
     },
     "execution_count": 92,
     "metadata": {},
     "output_type": "execute_result"
    }
   ],
   "source": [
    "data"
   ]
  },
  {
   "cell_type": "code",
   "execution_count": 23,
   "id": "9d04f275",
   "metadata": {},
   "outputs": [
    {
     "data": {
      "text/plain": [
       "PID             1\n",
       "ST_NUM          2\n",
       "ST_NAME         1\n",
       "OWN_OCCUPIED    1\n",
       "NUM_BEDROOMS    2\n",
       "NUM_BATH        1\n",
       "SQ_FT           2\n",
       "dtype: int64"
      ]
     },
     "execution_count": 23,
     "metadata": {},
     "output_type": "execute_result"
    }
   ],
   "source": [
    "data.isnull().sum()"
   ]
  },
  {
   "cell_type": "code",
   "execution_count": 18,
   "id": "f602abee",
   "metadata": {},
   "outputs": [
    {
     "data": {
      "text/plain": [
       "Index(['PID', 'ST_NUM', 'ST_NAME', 'OWN_OCCUPIED', 'NUM_BEDROOMS', 'NUM_BATH',\n",
       "       'SQ_FT'],\n",
       "      dtype='object')"
      ]
     },
     "execution_count": 18,
     "metadata": {},
     "output_type": "execute_result"
    }
   ],
   "source": [
    "data.columns"
   ]
  },
  {
   "cell_type": "code",
   "execution_count": 24,
   "id": "3501338f",
   "metadata": {},
   "outputs": [
    {
     "data": {
      "text/plain": [
       "0    False\n",
       "1    False\n",
       "2    False\n",
       "3    False\n",
       "4    False\n",
       "5    False\n",
       "6     True\n",
       "7    False\n",
       "8    False\n",
       "Name: OWN_OCCUPIED, dtype: bool"
      ]
     },
     "execution_count": 24,
     "metadata": {},
     "output_type": "execute_result"
    }
   ],
   "source": [
    "data['OWN_OCCUPIED'].isnull()"
   ]
  },
  {
   "cell_type": "code",
   "execution_count": 26,
   "id": "915789b4",
   "metadata": {},
   "outputs": [
    {
     "data": {
      "text/plain": [
       "0      Y\n",
       "1      N\n",
       "2      N\n",
       "3     12\n",
       "4      Y\n",
       "5      Y\n",
       "6    NaN\n",
       "7      Y\n",
       "8      Y\n",
       "Name: OWN_OCCUPIED, dtype: object"
      ]
     },
     "execution_count": 26,
     "metadata": {},
     "output_type": "execute_result"
    }
   ],
   "source": [
    "data['OWN_OCCUPIED'] #unexpected value at 3 index we are asuming string but there is an numeric value"
   ]
  },
  {
   "cell_type": "code",
   "execution_count": 30,
   "id": "4e57b803",
   "metadata": {},
   "outputs": [],
   "source": [
    "count=0\n",
    "for row in data['OWN_OCCUPIED']:\n",
    "    try: \n",
    "        int(row)\n",
    "        data.loc[count,'OWN_OCCUPIED']=np.nan\n",
    "    except ValueError: \n",
    "        pass\n",
    "    count+=1"
   ]
  },
  {
   "cell_type": "code",
   "execution_count": 31,
   "id": "311f431a",
   "metadata": {},
   "outputs": [
    {
     "data": {
      "text/plain": [
       "0      Y\n",
       "1      N\n",
       "2      N\n",
       "3    NaN\n",
       "4      Y\n",
       "5      Y\n",
       "6    NaN\n",
       "7      Y\n",
       "8      Y\n",
       "Name: OWN_OCCUPIED, dtype: object"
      ]
     },
     "execution_count": 31,
     "metadata": {},
     "output_type": "execute_result"
    }
   ],
   "source": [
    "data['OWN_OCCUPIED']"
   ]
  },
  {
   "cell_type": "code",
   "execution_count": 34,
   "id": "9e0a34f6",
   "metadata": {},
   "outputs": [],
   "source": [
    "from sklearn.impute import SimpleImputer\n"
   ]
  },
  {
   "cell_type": "code",
   "execution_count": 63,
   "id": "29a1ba1f",
   "metadata": {},
   "outputs": [],
   "source": [
    "impute = SimpleImputer(missing_values=np.nan, strategy='mean')\n",
    "#replace missing values with missing value"
   ]
  },
  {
   "cell_type": "code",
   "execution_count": 64,
   "id": "8ec07eba",
   "metadata": {},
   "outputs": [
    {
     "data": {
      "text/plain": [
       "array([[100001000.0, 104.0, 'PUTNAM', 'Y', '3', '1'],\n",
       "       [100002000.0, 197.0, 'LEXINGTON', 'N', '3', '1.5'],\n",
       "       [100003000.0, nan, 'LEXINGTON', 'N', nan, '1'],\n",
       "       [100004000.0, 201.0, 'BERKELEY', nan, '1', nan],\n",
       "       [nan, 203.0, 'BERKELEY', 'Y', '3', '2'],\n",
       "       [100006000.0, 207.0, 'BERKELEY', 'Y', nan, '1'],\n",
       "       [100007000.0, nan, nan, nan, '2', 'HURLEY'],\n",
       "       [100008000.0, 213.0, 'TREMONT', 'Y', '1', '1'],\n",
       "       [100009000.0, 215.0, 'TREMONT', 'Y', 'na', '2']], dtype=object)"
      ]
     },
     "execution_count": 64,
     "metadata": {},
     "output_type": "execute_result"
    }
   ],
   "source": [
    "x= data.iloc[:,:-1].values\n",
    "x"
   ]
  },
  {
   "cell_type": "code",
   "execution_count": 65,
   "id": "00ad315f",
   "metadata": {},
   "outputs": [
    {
     "data": {
      "text/plain": [
       "0    1000.0\n",
       "1       NaN\n",
       "2     850.0\n",
       "3     700.0\n",
       "4    1600.0\n",
       "5     800.0\n",
       "6     950.0\n",
       "7       NaN\n",
       "8    1800.0\n",
       "Name: SQ_FT, dtype: float64"
      ]
     },
     "execution_count": 65,
     "metadata": {},
     "output_type": "execute_result"
    }
   ],
   "source": [
    "y=data.iloc[:,6]\n",
    "y"
   ]
  },
  {
   "cell_type": "code",
   "execution_count": 66,
   "id": "bf69185f",
   "metadata": {},
   "outputs": [
    {
     "data": {
      "text/plain": [
       "array([[104.0],\n",
       "       [197.0],\n",
       "       [191.42857142857142],\n",
       "       [201.0],\n",
       "       [203.0],\n",
       "       [207.0],\n",
       "       [191.42857142857142],\n",
       "       [213.0],\n",
       "       [215.0]], dtype=object)"
      ]
     },
     "execution_count": 66,
     "metadata": {},
     "output_type": "execute_result"
    }
   ],
   "source": [
    "impute=impute.fit(x[:,1:2])\n",
    "x[:,1:2]=impute.transform(x[:,1:2])\n",
    "x[:,1:2]"
   ]
  },
  {
   "cell_type": "code",
   "execution_count": 70,
   "id": "c6c5fc8a",
   "metadata": {},
   "outputs": [
    {
     "data": {
      "text/plain": [
       "PID             float64\n",
       "ST_NUM          float64\n",
       "ST_NAME          object\n",
       "OWN_OCCUPIED     object\n",
       "NUM_BEDROOMS     object\n",
       "NUM_BATH         object\n",
       "SQ_FT           float64\n",
       "dtype: object"
      ]
     },
     "execution_count": 70,
     "metadata": {},
     "output_type": "execute_result"
    }
   ],
   "source": [
    "data.dtypes"
   ]
  },
  {
   "cell_type": "code",
   "execution_count": 96,
   "id": "74c345f7",
   "metadata": {},
   "outputs": [],
   "source": [
    "import math"
   ]
  },
  {
   "cell_type": "code",
   "execution_count": 98,
   "id": "19eaf4be",
   "metadata": {},
   "outputs": [
    {
     "data": {
      "text/plain": [
       "2"
      ]
     },
     "execution_count": 98,
     "metadata": {},
     "output_type": "execute_result"
    }
   ],
   "source": [
    "median=math.floor(data['NUM_BEDROOMS'].median())\n",
    "median"
   ]
  },
  {
   "cell_type": "code",
   "execution_count": 99,
   "id": "3aa6a859",
   "metadata": {},
   "outputs": [],
   "source": [
    "data['NUM_BEDROOMS'].fillna(median,inplace=True)"
   ]
  },
  {
   "cell_type": "code",
   "execution_count": 80,
   "id": "0910ab61",
   "metadata": {},
   "outputs": [],
   "source": []
  },
  {
   "cell_type": "code",
   "execution_count": 100,
   "id": "aaadf5ac",
   "metadata": {},
   "outputs": [
    {
     "data": {
      "text/plain": [
       "0    3.0\n",
       "1    3.0\n",
       "2    2.0\n",
       "3    1.0\n",
       "4    3.0\n",
       "5    2.0\n",
       "6    2.0\n",
       "7    1.0\n",
       "8    2.0\n",
       "Name: NUM_BEDROOMS, dtype: float64"
      ]
     },
     "execution_count": 100,
     "metadata": {},
     "output_type": "execute_result"
    }
   ],
   "source": [
    "data['NUM_BEDROOMS']"
   ]
  },
  {
   "cell_type": "markdown",
   "id": "8d6746a1",
   "metadata": {},
   "source": [
    "# One Hot Vector"
   ]
  },
  {
   "cell_type": "code",
   "execution_count": 101,
   "id": "8a055e07",
   "metadata": {},
   "outputs": [],
   "source": [
    "data=pd.read_csv('E:DS/Datasets/MallCustomers.csv')"
   ]
  },
  {
   "cell_type": "code",
   "execution_count": 102,
   "id": "7d6c55cf",
   "metadata": {},
   "outputs": [
    {
     "data": {
      "text/html": [
       "<div>\n",
       "<style scoped>\n",
       "    .dataframe tbody tr th:only-of-type {\n",
       "        vertical-align: middle;\n",
       "    }\n",
       "\n",
       "    .dataframe tbody tr th {\n",
       "        vertical-align: top;\n",
       "    }\n",
       "\n",
       "    .dataframe thead th {\n",
       "        text-align: right;\n",
       "    }\n",
       "</style>\n",
       "<table border=\"1\" class=\"dataframe\">\n",
       "  <thead>\n",
       "    <tr style=\"text-align: right;\">\n",
       "      <th></th>\n",
       "      <th>CustomerID</th>\n",
       "      <th>Gender</th>\n",
       "      <th>Age</th>\n",
       "      <th>Annual Income (k$)</th>\n",
       "      <th>Spending Score (1-100)</th>\n",
       "    </tr>\n",
       "  </thead>\n",
       "  <tbody>\n",
       "    <tr>\n",
       "      <th>0</th>\n",
       "      <td>1</td>\n",
       "      <td>Male</td>\n",
       "      <td>19</td>\n",
       "      <td>15</td>\n",
       "      <td>39</td>\n",
       "    </tr>\n",
       "    <tr>\n",
       "      <th>1</th>\n",
       "      <td>2</td>\n",
       "      <td>Male</td>\n",
       "      <td>21</td>\n",
       "      <td>15</td>\n",
       "      <td>81</td>\n",
       "    </tr>\n",
       "    <tr>\n",
       "      <th>2</th>\n",
       "      <td>3</td>\n",
       "      <td>Female</td>\n",
       "      <td>20</td>\n",
       "      <td>16</td>\n",
       "      <td>6</td>\n",
       "    </tr>\n",
       "    <tr>\n",
       "      <th>3</th>\n",
       "      <td>4</td>\n",
       "      <td>Female</td>\n",
       "      <td>23</td>\n",
       "      <td>16</td>\n",
       "      <td>77</td>\n",
       "    </tr>\n",
       "    <tr>\n",
       "      <th>4</th>\n",
       "      <td>5</td>\n",
       "      <td>Female</td>\n",
       "      <td>31</td>\n",
       "      <td>17</td>\n",
       "      <td>40</td>\n",
       "    </tr>\n",
       "  </tbody>\n",
       "</table>\n",
       "</div>"
      ],
      "text/plain": [
       "   CustomerID  Gender  Age  Annual Income (k$)  Spending Score (1-100)\n",
       "0           1    Male   19                  15                      39\n",
       "1           2    Male   21                  15                      81\n",
       "2           3  Female   20                  16                       6\n",
       "3           4  Female   23                  16                      77\n",
       "4           5  Female   31                  17                      40"
      ]
     },
     "execution_count": 102,
     "metadata": {},
     "output_type": "execute_result"
    }
   ],
   "source": [
    "data.head()"
   ]
  },
  {
   "cell_type": "code",
   "execution_count": 103,
   "id": "311e0297",
   "metadata": {},
   "outputs": [
    {
     "data": {
      "text/plain": [
       "CustomerID                 int64\n",
       "Gender                    object\n",
       "Age                        int64\n",
       "Annual Income (k$)         int64\n",
       "Spending Score (1-100)     int64\n",
       "dtype: object"
      ]
     },
     "execution_count": 103,
     "metadata": {},
     "output_type": "execute_result"
    }
   ],
   "source": [
    "data.dtypes"
   ]
  },
  {
   "cell_type": "code",
   "execution_count": 104,
   "id": "9f8dae93",
   "metadata": {},
   "outputs": [
    {
     "data": {
      "text/plain": [
       "CustomerID                0\n",
       "Gender                    0\n",
       "Age                       0\n",
       "Annual Income (k$)        0\n",
       "Spending Score (1-100)    0\n",
       "dtype: int64"
      ]
     },
     "execution_count": 104,
     "metadata": {},
     "output_type": "execute_result"
    }
   ],
   "source": [
    "data.isnull().sum()"
   ]
  },
  {
   "cell_type": "code",
   "execution_count": 147,
   "id": "2a711af5",
   "metadata": {},
   "outputs": [
    {
     "data": {
      "text/plain": [
       "array([[1, 'Male', 19, 15],\n",
       "       [2, 'Male', 21, 15],\n",
       "       [3, 'Female', 20, 16],\n",
       "       [4, 'Female', 23, 16],\n",
       "       [5, 'Female', 31, 17],\n",
       "       [6, 'Female', 22, 17],\n",
       "       [7, 'Female', 35, 18],\n",
       "       [8, 'Female', 23, 18],\n",
       "       [9, 'Male', 64, 19],\n",
       "       [10, 'Female', 30, 19],\n",
       "       [11, 'Male', 67, 19],\n",
       "       [12, 'Female', 35, 19],\n",
       "       [13, 'Female', 58, 20],\n",
       "       [14, 'Female', 24, 20],\n",
       "       [15, 'Male', 37, 20],\n",
       "       [16, 'Male', 22, 20],\n",
       "       [17, 'Female', 35, 21],\n",
       "       [18, 'Male', 20, 21],\n",
       "       [19, 'Male', 52, 23],\n",
       "       [20, 'Female', 35, 23],\n",
       "       [21, 'Male', 35, 24],\n",
       "       [22, 'Male', 25, 24],\n",
       "       [23, 'Female', 46, 25],\n",
       "       [24, 'Male', 31, 25],\n",
       "       [25, 'Female', 54, 28],\n",
       "       [26, 'Male', 29, 28],\n",
       "       [27, 'Female', 45, 28],\n",
       "       [28, 'Male', 35, 28],\n",
       "       [29, 'Female', 40, 29],\n",
       "       [30, 'Female', 23, 29],\n",
       "       [31, 'Male', 60, 30],\n",
       "       [32, 'Female', 21, 30],\n",
       "       [33, 'Male', 53, 33],\n",
       "       [34, 'Male', 18, 33],\n",
       "       [35, 'Female', 49, 33],\n",
       "       [36, 'Female', 21, 33],\n",
       "       [37, 'Female', 42, 34],\n",
       "       [38, 'Female', 30, 34],\n",
       "       [39, 'Female', 36, 37],\n",
       "       [40, 'Female', 20, 37],\n",
       "       [41, 'Female', 65, 38],\n",
       "       [42, 'Male', 24, 38],\n",
       "       [43, 'Male', 48, 39],\n",
       "       [44, 'Female', 31, 39],\n",
       "       [45, 'Female', 49, 39],\n",
       "       [46, 'Female', 24, 39],\n",
       "       [47, 'Female', 50, 40],\n",
       "       [48, 'Female', 27, 40],\n",
       "       [49, 'Female', 29, 40],\n",
       "       [50, 'Female', 31, 40],\n",
       "       [51, 'Female', 49, 42],\n",
       "       [52, 'Male', 33, 42],\n",
       "       [53, 'Female', 31, 43],\n",
       "       [54, 'Male', 59, 43],\n",
       "       [55, 'Female', 50, 43],\n",
       "       [56, 'Male', 47, 43],\n",
       "       [57, 'Female', 51, 44],\n",
       "       [58, 'Male', 69, 44],\n",
       "       [59, 'Female', 27, 46],\n",
       "       [60, 'Male', 53, 46],\n",
       "       [61, 'Male', 70, 46],\n",
       "       [62, 'Male', 19, 46],\n",
       "       [63, 'Female', 67, 47],\n",
       "       [64, 'Female', 54, 47],\n",
       "       [65, 'Male', 63, 48],\n",
       "       [66, 'Male', 18, 48],\n",
       "       [67, 'Female', 43, 48],\n",
       "       [68, 'Female', 68, 48],\n",
       "       [69, 'Male', 19, 48],\n",
       "       [70, 'Female', 32, 48],\n",
       "       [71, 'Male', 70, 49],\n",
       "       [72, 'Female', 47, 49],\n",
       "       [73, 'Female', 60, 50],\n",
       "       [74, 'Female', 60, 50],\n",
       "       [75, 'Male', 59, 54],\n",
       "       [76, 'Male', 26, 54],\n",
       "       [77, 'Female', 45, 54],\n",
       "       [78, 'Male', 40, 54],\n",
       "       [79, 'Female', 23, 54],\n",
       "       [80, 'Female', 49, 54],\n",
       "       [81, 'Male', 57, 54],\n",
       "       [82, 'Male', 38, 54],\n",
       "       [83, 'Male', 67, 54],\n",
       "       [84, 'Female', 46, 54],\n",
       "       [85, 'Female', 21, 54],\n",
       "       [86, 'Male', 48, 54],\n",
       "       [87, 'Female', 55, 57],\n",
       "       [88, 'Female', 22, 57],\n",
       "       [89, 'Female', 34, 58],\n",
       "       [90, 'Female', 50, 58],\n",
       "       [91, 'Female', 68, 59],\n",
       "       [92, 'Male', 18, 59],\n",
       "       [93, 'Male', 48, 60],\n",
       "       [94, 'Female', 40, 60],\n",
       "       [95, 'Female', 32, 60],\n",
       "       [96, 'Male', 24, 60],\n",
       "       [97, 'Female', 47, 60],\n",
       "       [98, 'Female', 27, 60],\n",
       "       [99, 'Male', 48, 61],\n",
       "       [100, 'Male', 20, 61],\n",
       "       [101, 'Female', 23, 62],\n",
       "       [102, 'Female', 49, 62],\n",
       "       [103, 'Male', 67, 62],\n",
       "       [104, 'Male', 26, 62],\n",
       "       [105, 'Male', 49, 62],\n",
       "       [106, 'Female', 21, 62],\n",
       "       [107, 'Female', 66, 63],\n",
       "       [108, 'Male', 54, 63],\n",
       "       [109, 'Male', 68, 63],\n",
       "       [110, 'Male', 66, 63],\n",
       "       [111, 'Male', 65, 63],\n",
       "       [112, 'Female', 19, 63],\n",
       "       [113, 'Female', 38, 64],\n",
       "       [114, 'Male', 19, 64],\n",
       "       [115, 'Female', 18, 65],\n",
       "       [116, 'Female', 19, 65],\n",
       "       [117, 'Female', 63, 65],\n",
       "       [118, 'Female', 49, 65],\n",
       "       [119, 'Female', 51, 67],\n",
       "       [120, 'Female', 50, 67],\n",
       "       [121, 'Male', 27, 67],\n",
       "       [122, 'Female', 38, 67],\n",
       "       [123, 'Female', 40, 69],\n",
       "       [124, 'Male', 39, 69],\n",
       "       [125, 'Female', 23, 70],\n",
       "       [126, 'Female', 31, 70],\n",
       "       [127, 'Male', 43, 71],\n",
       "       [128, 'Male', 40, 71],\n",
       "       [129, 'Male', 59, 71],\n",
       "       [130, 'Male', 38, 71],\n",
       "       [131, 'Male', 47, 71],\n",
       "       [132, 'Male', 39, 71],\n",
       "       [133, 'Female', 25, 72],\n",
       "       [134, 'Female', 31, 72],\n",
       "       [135, 'Male', 20, 73],\n",
       "       [136, 'Female', 29, 73],\n",
       "       [137, 'Female', 44, 73],\n",
       "       [138, 'Male', 32, 73],\n",
       "       [139, 'Male', 19, 74],\n",
       "       [140, 'Female', 35, 74],\n",
       "       [141, 'Female', 57, 75],\n",
       "       [142, 'Male', 32, 75],\n",
       "       [143, 'Female', 28, 76],\n",
       "       [144, 'Female', 32, 76],\n",
       "       [145, 'Male', 25, 77],\n",
       "       [146, 'Male', 28, 77],\n",
       "       [147, 'Male', 48, 77],\n",
       "       [148, 'Female', 32, 77],\n",
       "       [149, 'Female', 34, 78],\n",
       "       [150, 'Male', 34, 78],\n",
       "       [151, 'Male', 43, 78],\n",
       "       [152, 'Male', 39, 78],\n",
       "       [153, 'Female', 44, 78],\n",
       "       [154, 'Female', 38, 78],\n",
       "       [155, 'Female', 47, 78],\n",
       "       [156, 'Female', 27, 78],\n",
       "       [157, 'Male', 37, 78],\n",
       "       [158, 'Female', 30, 78],\n",
       "       [159, 'Male', 34, 78],\n",
       "       [160, 'Female', 30, 78],\n",
       "       [161, 'Female', 56, 79],\n",
       "       [162, 'Female', 29, 79],\n",
       "       [163, 'Male', 19, 81],\n",
       "       [164, 'Female', 31, 81],\n",
       "       [165, 'Male', 50, 85],\n",
       "       [166, 'Female', 36, 85],\n",
       "       [167, 'Male', 42, 86],\n",
       "       [168, 'Female', 33, 86],\n",
       "       [169, 'Female', 36, 87],\n",
       "       [170, 'Male', 32, 87],\n",
       "       [171, 'Male', 40, 87],\n",
       "       [172, 'Male', 28, 87],\n",
       "       [173, 'Male', 36, 87],\n",
       "       [174, 'Male', 36, 87],\n",
       "       [175, 'Female', 52, 88],\n",
       "       [176, 'Female', 30, 88],\n",
       "       [177, 'Male', 58, 88],\n",
       "       [178, 'Male', 27, 88],\n",
       "       [179, 'Male', 59, 93],\n",
       "       [180, 'Male', 35, 93],\n",
       "       [181, 'Female', 37, 97],\n",
       "       [182, 'Female', 32, 97],\n",
       "       [183, 'Male', 46, 98],\n",
       "       [184, 'Female', 29, 98],\n",
       "       [185, 'Female', 41, 99],\n",
       "       [186, 'Male', 30, 99],\n",
       "       [187, 'Female', 54, 101],\n",
       "       [188, 'Male', 28, 101],\n",
       "       [189, 'Female', 41, 103],\n",
       "       [190, 'Female', 36, 103],\n",
       "       [191, 'Female', 34, 103],\n",
       "       [192, 'Female', 32, 103],\n",
       "       [193, 'Male', 33, 113],\n",
       "       [194, 'Female', 38, 113],\n",
       "       [195, 'Female', 47, 120],\n",
       "       [196, 'Female', 35, 120],\n",
       "       [197, 'Female', 45, 126],\n",
       "       [198, 'Male', 32, 126],\n",
       "       [199, 'Male', 32, 137],\n",
       "       [200, 'Male', 30, 137]], dtype=object)"
      ]
     },
     "execution_count": 147,
     "metadata": {},
     "output_type": "execute_result"
    }
   ],
   "source": [
    "X=data.iloc[:,:-1].values\n",
    "Y=data.iloc[:,4].values\n",
    "X"
   ]
  },
  {
   "cell_type": "code",
   "execution_count": 148,
   "id": "5dea5050",
   "metadata": {},
   "outputs": [],
   "source": [
    "from sklearn.preprocessing import OneHotEncoder\n",
    "from sklearn.compose import ColumnTransformer"
   ]
  },
  {
   "cell_type": "code",
   "execution_count": 149,
   "id": "7b575caf",
   "metadata": {},
   "outputs": [
    {
     "data": {
      "text/plain": [
       "array([[0.0, 1.0, 1, 19, 15],\n",
       "       [0.0, 1.0, 2, 21, 15],\n",
       "       [1.0, 0.0, 3, 20, 16],\n",
       "       [1.0, 0.0, 4, 23, 16],\n",
       "       [1.0, 0.0, 5, 31, 17],\n",
       "       [1.0, 0.0, 6, 22, 17],\n",
       "       [1.0, 0.0, 7, 35, 18],\n",
       "       [1.0, 0.0, 8, 23, 18],\n",
       "       [0.0, 1.0, 9, 64, 19],\n",
       "       [1.0, 0.0, 10, 30, 19],\n",
       "       [0.0, 1.0, 11, 67, 19],\n",
       "       [1.0, 0.0, 12, 35, 19],\n",
       "       [1.0, 0.0, 13, 58, 20],\n",
       "       [1.0, 0.0, 14, 24, 20],\n",
       "       [0.0, 1.0, 15, 37, 20],\n",
       "       [0.0, 1.0, 16, 22, 20],\n",
       "       [1.0, 0.0, 17, 35, 21],\n",
       "       [0.0, 1.0, 18, 20, 21],\n",
       "       [0.0, 1.0, 19, 52, 23],\n",
       "       [1.0, 0.0, 20, 35, 23],\n",
       "       [0.0, 1.0, 21, 35, 24],\n",
       "       [0.0, 1.0, 22, 25, 24],\n",
       "       [1.0, 0.0, 23, 46, 25],\n",
       "       [0.0, 1.0, 24, 31, 25],\n",
       "       [1.0, 0.0, 25, 54, 28],\n",
       "       [0.0, 1.0, 26, 29, 28],\n",
       "       [1.0, 0.0, 27, 45, 28],\n",
       "       [0.0, 1.0, 28, 35, 28],\n",
       "       [1.0, 0.0, 29, 40, 29],\n",
       "       [1.0, 0.0, 30, 23, 29],\n",
       "       [0.0, 1.0, 31, 60, 30],\n",
       "       [1.0, 0.0, 32, 21, 30],\n",
       "       [0.0, 1.0, 33, 53, 33],\n",
       "       [0.0, 1.0, 34, 18, 33],\n",
       "       [1.0, 0.0, 35, 49, 33],\n",
       "       [1.0, 0.0, 36, 21, 33],\n",
       "       [1.0, 0.0, 37, 42, 34],\n",
       "       [1.0, 0.0, 38, 30, 34],\n",
       "       [1.0, 0.0, 39, 36, 37],\n",
       "       [1.0, 0.0, 40, 20, 37],\n",
       "       [1.0, 0.0, 41, 65, 38],\n",
       "       [0.0, 1.0, 42, 24, 38],\n",
       "       [0.0, 1.0, 43, 48, 39],\n",
       "       [1.0, 0.0, 44, 31, 39],\n",
       "       [1.0, 0.0, 45, 49, 39],\n",
       "       [1.0, 0.0, 46, 24, 39],\n",
       "       [1.0, 0.0, 47, 50, 40],\n",
       "       [1.0, 0.0, 48, 27, 40],\n",
       "       [1.0, 0.0, 49, 29, 40],\n",
       "       [1.0, 0.0, 50, 31, 40],\n",
       "       [1.0, 0.0, 51, 49, 42],\n",
       "       [0.0, 1.0, 52, 33, 42],\n",
       "       [1.0, 0.0, 53, 31, 43],\n",
       "       [0.0, 1.0, 54, 59, 43],\n",
       "       [1.0, 0.0, 55, 50, 43],\n",
       "       [0.0, 1.0, 56, 47, 43],\n",
       "       [1.0, 0.0, 57, 51, 44],\n",
       "       [0.0, 1.0, 58, 69, 44],\n",
       "       [1.0, 0.0, 59, 27, 46],\n",
       "       [0.0, 1.0, 60, 53, 46],\n",
       "       [0.0, 1.0, 61, 70, 46],\n",
       "       [0.0, 1.0, 62, 19, 46],\n",
       "       [1.0, 0.0, 63, 67, 47],\n",
       "       [1.0, 0.0, 64, 54, 47],\n",
       "       [0.0, 1.0, 65, 63, 48],\n",
       "       [0.0, 1.0, 66, 18, 48],\n",
       "       [1.0, 0.0, 67, 43, 48],\n",
       "       [1.0, 0.0, 68, 68, 48],\n",
       "       [0.0, 1.0, 69, 19, 48],\n",
       "       [1.0, 0.0, 70, 32, 48],\n",
       "       [0.0, 1.0, 71, 70, 49],\n",
       "       [1.0, 0.0, 72, 47, 49],\n",
       "       [1.0, 0.0, 73, 60, 50],\n",
       "       [1.0, 0.0, 74, 60, 50],\n",
       "       [0.0, 1.0, 75, 59, 54],\n",
       "       [0.0, 1.0, 76, 26, 54],\n",
       "       [1.0, 0.0, 77, 45, 54],\n",
       "       [0.0, 1.0, 78, 40, 54],\n",
       "       [1.0, 0.0, 79, 23, 54],\n",
       "       [1.0, 0.0, 80, 49, 54],\n",
       "       [0.0, 1.0, 81, 57, 54],\n",
       "       [0.0, 1.0, 82, 38, 54],\n",
       "       [0.0, 1.0, 83, 67, 54],\n",
       "       [1.0, 0.0, 84, 46, 54],\n",
       "       [1.0, 0.0, 85, 21, 54],\n",
       "       [0.0, 1.0, 86, 48, 54],\n",
       "       [1.0, 0.0, 87, 55, 57],\n",
       "       [1.0, 0.0, 88, 22, 57],\n",
       "       [1.0, 0.0, 89, 34, 58],\n",
       "       [1.0, 0.0, 90, 50, 58],\n",
       "       [1.0, 0.0, 91, 68, 59],\n",
       "       [0.0, 1.0, 92, 18, 59],\n",
       "       [0.0, 1.0, 93, 48, 60],\n",
       "       [1.0, 0.0, 94, 40, 60],\n",
       "       [1.0, 0.0, 95, 32, 60],\n",
       "       [0.0, 1.0, 96, 24, 60],\n",
       "       [1.0, 0.0, 97, 47, 60],\n",
       "       [1.0, 0.0, 98, 27, 60],\n",
       "       [0.0, 1.0, 99, 48, 61],\n",
       "       [0.0, 1.0, 100, 20, 61],\n",
       "       [1.0, 0.0, 101, 23, 62],\n",
       "       [1.0, 0.0, 102, 49, 62],\n",
       "       [0.0, 1.0, 103, 67, 62],\n",
       "       [0.0, 1.0, 104, 26, 62],\n",
       "       [0.0, 1.0, 105, 49, 62],\n",
       "       [1.0, 0.0, 106, 21, 62],\n",
       "       [1.0, 0.0, 107, 66, 63],\n",
       "       [0.0, 1.0, 108, 54, 63],\n",
       "       [0.0, 1.0, 109, 68, 63],\n",
       "       [0.0, 1.0, 110, 66, 63],\n",
       "       [0.0, 1.0, 111, 65, 63],\n",
       "       [1.0, 0.0, 112, 19, 63],\n",
       "       [1.0, 0.0, 113, 38, 64],\n",
       "       [0.0, 1.0, 114, 19, 64],\n",
       "       [1.0, 0.0, 115, 18, 65],\n",
       "       [1.0, 0.0, 116, 19, 65],\n",
       "       [1.0, 0.0, 117, 63, 65],\n",
       "       [1.0, 0.0, 118, 49, 65],\n",
       "       [1.0, 0.0, 119, 51, 67],\n",
       "       [1.0, 0.0, 120, 50, 67],\n",
       "       [0.0, 1.0, 121, 27, 67],\n",
       "       [1.0, 0.0, 122, 38, 67],\n",
       "       [1.0, 0.0, 123, 40, 69],\n",
       "       [0.0, 1.0, 124, 39, 69],\n",
       "       [1.0, 0.0, 125, 23, 70],\n",
       "       [1.0, 0.0, 126, 31, 70],\n",
       "       [0.0, 1.0, 127, 43, 71],\n",
       "       [0.0, 1.0, 128, 40, 71],\n",
       "       [0.0, 1.0, 129, 59, 71],\n",
       "       [0.0, 1.0, 130, 38, 71],\n",
       "       [0.0, 1.0, 131, 47, 71],\n",
       "       [0.0, 1.0, 132, 39, 71],\n",
       "       [1.0, 0.0, 133, 25, 72],\n",
       "       [1.0, 0.0, 134, 31, 72],\n",
       "       [0.0, 1.0, 135, 20, 73],\n",
       "       [1.0, 0.0, 136, 29, 73],\n",
       "       [1.0, 0.0, 137, 44, 73],\n",
       "       [0.0, 1.0, 138, 32, 73],\n",
       "       [0.0, 1.0, 139, 19, 74],\n",
       "       [1.0, 0.0, 140, 35, 74],\n",
       "       [1.0, 0.0, 141, 57, 75],\n",
       "       [0.0, 1.0, 142, 32, 75],\n",
       "       [1.0, 0.0, 143, 28, 76],\n",
       "       [1.0, 0.0, 144, 32, 76],\n",
       "       [0.0, 1.0, 145, 25, 77],\n",
       "       [0.0, 1.0, 146, 28, 77],\n",
       "       [0.0, 1.0, 147, 48, 77],\n",
       "       [1.0, 0.0, 148, 32, 77],\n",
       "       [1.0, 0.0, 149, 34, 78],\n",
       "       [0.0, 1.0, 150, 34, 78],\n",
       "       [0.0, 1.0, 151, 43, 78],\n",
       "       [0.0, 1.0, 152, 39, 78],\n",
       "       [1.0, 0.0, 153, 44, 78],\n",
       "       [1.0, 0.0, 154, 38, 78],\n",
       "       [1.0, 0.0, 155, 47, 78],\n",
       "       [1.0, 0.0, 156, 27, 78],\n",
       "       [0.0, 1.0, 157, 37, 78],\n",
       "       [1.0, 0.0, 158, 30, 78],\n",
       "       [0.0, 1.0, 159, 34, 78],\n",
       "       [1.0, 0.0, 160, 30, 78],\n",
       "       [1.0, 0.0, 161, 56, 79],\n",
       "       [1.0, 0.0, 162, 29, 79],\n",
       "       [0.0, 1.0, 163, 19, 81],\n",
       "       [1.0, 0.0, 164, 31, 81],\n",
       "       [0.0, 1.0, 165, 50, 85],\n",
       "       [1.0, 0.0, 166, 36, 85],\n",
       "       [0.0, 1.0, 167, 42, 86],\n",
       "       [1.0, 0.0, 168, 33, 86],\n",
       "       [1.0, 0.0, 169, 36, 87],\n",
       "       [0.0, 1.0, 170, 32, 87],\n",
       "       [0.0, 1.0, 171, 40, 87],\n",
       "       [0.0, 1.0, 172, 28, 87],\n",
       "       [0.0, 1.0, 173, 36, 87],\n",
       "       [0.0, 1.0, 174, 36, 87],\n",
       "       [1.0, 0.0, 175, 52, 88],\n",
       "       [1.0, 0.0, 176, 30, 88],\n",
       "       [0.0, 1.0, 177, 58, 88],\n",
       "       [0.0, 1.0, 178, 27, 88],\n",
       "       [0.0, 1.0, 179, 59, 93],\n",
       "       [0.0, 1.0, 180, 35, 93],\n",
       "       [1.0, 0.0, 181, 37, 97],\n",
       "       [1.0, 0.0, 182, 32, 97],\n",
       "       [0.0, 1.0, 183, 46, 98],\n",
       "       [1.0, 0.0, 184, 29, 98],\n",
       "       [1.0, 0.0, 185, 41, 99],\n",
       "       [0.0, 1.0, 186, 30, 99],\n",
       "       [1.0, 0.0, 187, 54, 101],\n",
       "       [0.0, 1.0, 188, 28, 101],\n",
       "       [1.0, 0.0, 189, 41, 103],\n",
       "       [1.0, 0.0, 190, 36, 103],\n",
       "       [1.0, 0.0, 191, 34, 103],\n",
       "       [1.0, 0.0, 192, 32, 103],\n",
       "       [0.0, 1.0, 193, 33, 113],\n",
       "       [1.0, 0.0, 194, 38, 113],\n",
       "       [1.0, 0.0, 195, 47, 120],\n",
       "       [1.0, 0.0, 196, 35, 120],\n",
       "       [1.0, 0.0, 197, 45, 126],\n",
       "       [0.0, 1.0, 198, 32, 126],\n",
       "       [0.0, 1.0, 199, 32, 137],\n",
       "       [0.0, 1.0, 200, 30, 137]], dtype=object)"
      ]
     },
     "execution_count": 149,
     "metadata": {},
     "output_type": "execute_result"
    }
   ],
   "source": [
    "ct = ColumnTransformer([(\"Gender\", OneHotEncoder(), [1])], remainder = 'passthrough')\n",
    "X = ct.fit_transform(X)\n",
    "X"
   ]
  },
  {
   "cell_type": "code",
   "execution_count": 112,
   "id": "69508611",
   "metadata": {},
   "outputs": [
    {
     "data": {
      "text/html": [
       "<div>\n",
       "<style scoped>\n",
       "    .dataframe tbody tr th:only-of-type {\n",
       "        vertical-align: middle;\n",
       "    }\n",
       "\n",
       "    .dataframe tbody tr th {\n",
       "        vertical-align: top;\n",
       "    }\n",
       "\n",
       "    .dataframe thead th {\n",
       "        text-align: right;\n",
       "    }\n",
       "</style>\n",
       "<table border=\"1\" class=\"dataframe\">\n",
       "  <thead>\n",
       "    <tr style=\"text-align: right;\">\n",
       "      <th></th>\n",
       "      <th>CustomerID</th>\n",
       "      <th>Gender</th>\n",
       "      <th>Age</th>\n",
       "      <th>Annual Income (k$)</th>\n",
       "      <th>Spending Score (1-100)</th>\n",
       "    </tr>\n",
       "  </thead>\n",
       "  <tbody>\n",
       "    <tr>\n",
       "      <th>0</th>\n",
       "      <td>1</td>\n",
       "      <td>Male</td>\n",
       "      <td>19</td>\n",
       "      <td>15</td>\n",
       "      <td>39</td>\n",
       "    </tr>\n",
       "    <tr>\n",
       "      <th>1</th>\n",
       "      <td>2</td>\n",
       "      <td>Male</td>\n",
       "      <td>21</td>\n",
       "      <td>15</td>\n",
       "      <td>81</td>\n",
       "    </tr>\n",
       "    <tr>\n",
       "      <th>2</th>\n",
       "      <td>3</td>\n",
       "      <td>Female</td>\n",
       "      <td>20</td>\n",
       "      <td>16</td>\n",
       "      <td>6</td>\n",
       "    </tr>\n",
       "    <tr>\n",
       "      <th>3</th>\n",
       "      <td>4</td>\n",
       "      <td>Female</td>\n",
       "      <td>23</td>\n",
       "      <td>16</td>\n",
       "      <td>77</td>\n",
       "    </tr>\n",
       "    <tr>\n",
       "      <th>4</th>\n",
       "      <td>5</td>\n",
       "      <td>Female</td>\n",
       "      <td>31</td>\n",
       "      <td>17</td>\n",
       "      <td>40</td>\n",
       "    </tr>\n",
       "  </tbody>\n",
       "</table>\n",
       "</div>"
      ],
      "text/plain": [
       "   CustomerID  Gender  Age  Annual Income (k$)  Spending Score (1-100)\n",
       "0           1    Male   19                  15                      39\n",
       "1           2    Male   21                  15                      81\n",
       "2           3  Female   20                  16                       6\n",
       "3           4  Female   23                  16                      77\n",
       "4           5  Female   31                  17                      40"
      ]
     },
     "execution_count": 112,
     "metadata": {},
     "output_type": "execute_result"
    }
   ],
   "source": [
    "data.head()"
   ]
  },
  {
   "cell_type": "markdown",
   "id": "036a8921",
   "metadata": {},
   "source": [
    "# Split and Train data set methods"
   ]
  },
  {
   "cell_type": "code",
   "execution_count": 150,
   "id": "c6efda73",
   "metadata": {},
   "outputs": [],
   "source": [
    "data=pd.read_csv('E:DS/Datasets/california_housing_train.csv')"
   ]
  },
  {
   "cell_type": "code",
   "execution_count": 151,
   "id": "7ce2ba75",
   "metadata": {},
   "outputs": [
    {
     "data": {
      "text/html": [
       "<div>\n",
       "<style scoped>\n",
       "    .dataframe tbody tr th:only-of-type {\n",
       "        vertical-align: middle;\n",
       "    }\n",
       "\n",
       "    .dataframe tbody tr th {\n",
       "        vertical-align: top;\n",
       "    }\n",
       "\n",
       "    .dataframe thead th {\n",
       "        text-align: right;\n",
       "    }\n",
       "</style>\n",
       "<table border=\"1\" class=\"dataframe\">\n",
       "  <thead>\n",
       "    <tr style=\"text-align: right;\">\n",
       "      <th></th>\n",
       "      <th>longitude</th>\n",
       "      <th>latitude</th>\n",
       "      <th>housing_median_age</th>\n",
       "      <th>total_rooms</th>\n",
       "      <th>total_bedrooms</th>\n",
       "      <th>population</th>\n",
       "      <th>households</th>\n",
       "      <th>median_income</th>\n",
       "      <th>median_house_value</th>\n",
       "      <th>Unnamed: 9</th>\n",
       "      <th>Unnamed: 10</th>\n",
       "      <th>Unnamed: 11</th>\n",
       "    </tr>\n",
       "  </thead>\n",
       "  <tbody>\n",
       "    <tr>\n",
       "      <th>0</th>\n",
       "      <td>-114.31</td>\n",
       "      <td>34.19</td>\n",
       "      <td>15</td>\n",
       "      <td>5612</td>\n",
       "      <td>1283</td>\n",
       "      <td>1015</td>\n",
       "      <td>472</td>\n",
       "      <td>1.4936</td>\n",
       "      <td>66900</td>\n",
       "      <td>NaN</td>\n",
       "      <td>NaN</td>\n",
       "      <td>NaN</td>\n",
       "    </tr>\n",
       "    <tr>\n",
       "      <th>1</th>\n",
       "      <td>-114.47</td>\n",
       "      <td>34.40</td>\n",
       "      <td>19</td>\n",
       "      <td>7650</td>\n",
       "      <td>1901</td>\n",
       "      <td>1129</td>\n",
       "      <td>463</td>\n",
       "      <td>1.8200</td>\n",
       "      <td>80100</td>\n",
       "      <td>NaN</td>\n",
       "      <td>NaN</td>\n",
       "      <td>NaN</td>\n",
       "    </tr>\n",
       "    <tr>\n",
       "      <th>2</th>\n",
       "      <td>-114.56</td>\n",
       "      <td>33.69</td>\n",
       "      <td>17</td>\n",
       "      <td>720</td>\n",
       "      <td>174</td>\n",
       "      <td>333</td>\n",
       "      <td>117</td>\n",
       "      <td>1.6509</td>\n",
       "      <td>85700</td>\n",
       "      <td>NaN</td>\n",
       "      <td>NaN</td>\n",
       "      <td>NaN</td>\n",
       "    </tr>\n",
       "    <tr>\n",
       "      <th>3</th>\n",
       "      <td>-114.57</td>\n",
       "      <td>33.64</td>\n",
       "      <td>14</td>\n",
       "      <td>1501</td>\n",
       "      <td>337</td>\n",
       "      <td>515</td>\n",
       "      <td>226</td>\n",
       "      <td>3.1917</td>\n",
       "      <td>73400</td>\n",
       "      <td>NaN</td>\n",
       "      <td>NaN</td>\n",
       "      <td>NaN</td>\n",
       "    </tr>\n",
       "    <tr>\n",
       "      <th>4</th>\n",
       "      <td>-114.57</td>\n",
       "      <td>33.57</td>\n",
       "      <td>20</td>\n",
       "      <td>1454</td>\n",
       "      <td>326</td>\n",
       "      <td>624</td>\n",
       "      <td>262</td>\n",
       "      <td>1.9250</td>\n",
       "      <td>65500</td>\n",
       "      <td>NaN</td>\n",
       "      <td>NaN</td>\n",
       "      <td>NaN</td>\n",
       "    </tr>\n",
       "  </tbody>\n",
       "</table>\n",
       "</div>"
      ],
      "text/plain": [
       "   longitude  latitude  housing_median_age  total_rooms  total_bedrooms  \\\n",
       "0    -114.31     34.19                  15         5612            1283   \n",
       "1    -114.47     34.40                  19         7650            1901   \n",
       "2    -114.56     33.69                  17          720             174   \n",
       "3    -114.57     33.64                  14         1501             337   \n",
       "4    -114.57     33.57                  20         1454             326   \n",
       "\n",
       "   population  households  median_income  median_house_value  Unnamed: 9  \\\n",
       "0        1015         472         1.4936               66900         NaN   \n",
       "1        1129         463         1.8200               80100         NaN   \n",
       "2         333         117         1.6509               85700         NaN   \n",
       "3         515         226         3.1917               73400         NaN   \n",
       "4         624         262         1.9250               65500         NaN   \n",
       "\n",
       "   Unnamed: 10  Unnamed: 11  \n",
       "0          NaN          NaN  \n",
       "1          NaN          NaN  \n",
       "2          NaN          NaN  \n",
       "3          NaN          NaN  \n",
       "4          NaN          NaN  "
      ]
     },
     "execution_count": 151,
     "metadata": {},
     "output_type": "execute_result"
    }
   ],
   "source": [
    "data.head()"
   ]
  },
  {
   "cell_type": "code",
   "execution_count": 152,
   "id": "97fa2f17",
   "metadata": {},
   "outputs": [
    {
     "data": {
      "text/plain": [
       "longitude             float64\n",
       "latitude              float64\n",
       "housing_median_age      int64\n",
       "total_rooms             int64\n",
       "total_bedrooms          int64\n",
       "population              int64\n",
       "households              int64\n",
       "median_income         float64\n",
       "median_house_value      int64\n",
       "Unnamed: 9            float64\n",
       "Unnamed: 10           float64\n",
       "Unnamed: 11           float64\n",
       "dtype: object"
      ]
     },
     "execution_count": 152,
     "metadata": {},
     "output_type": "execute_result"
    }
   ],
   "source": [
    "data.dtypes"
   ]
  },
  {
   "cell_type": "code",
   "execution_count": 153,
   "id": "711d223e",
   "metadata": {},
   "outputs": [
    {
     "data": {
      "text/plain": [
       "longitude                 0\n",
       "latitude                  0\n",
       "housing_median_age        0\n",
       "total_rooms               0\n",
       "total_bedrooms            0\n",
       "population                0\n",
       "households                0\n",
       "median_income             0\n",
       "median_house_value        0\n",
       "Unnamed: 9            16999\n",
       "Unnamed: 10           16998\n",
       "Unnamed: 11           16998\n",
       "dtype: int64"
      ]
     },
     "execution_count": 153,
     "metadata": {},
     "output_type": "execute_result"
    }
   ],
   "source": [
    "data.isnull().sum()"
   ]
  },
  {
   "cell_type": "code",
   "execution_count": 155,
   "id": "48033b62",
   "metadata": {},
   "outputs": [],
   "source": [
    "data=data.drop(['Unnamed: 9','Unnamed: 10','Unnamed: 11'],axis=1)"
   ]
  },
  {
   "cell_type": "code",
   "execution_count": 156,
   "id": "594eeb06",
   "metadata": {},
   "outputs": [
    {
     "data": {
      "text/plain": [
       "longitude             0\n",
       "latitude              0\n",
       "housing_median_age    0\n",
       "total_rooms           0\n",
       "total_bedrooms        0\n",
       "population            0\n",
       "households            0\n",
       "median_income         0\n",
       "median_house_value    0\n",
       "dtype: int64"
      ]
     },
     "execution_count": 156,
     "metadata": {},
     "output_type": "execute_result"
    }
   ],
   "source": [
    "data.isnull().sum()"
   ]
  },
  {
   "cell_type": "code",
   "execution_count": 166,
   "id": "87efb68b",
   "metadata": {},
   "outputs": [],
   "source": [
    "X=data.iloc[:,:-1].values\n",
    "Y=data.iloc[:,8].values\n"
   ]
  },
  {
   "cell_type": "code",
   "execution_count": 167,
   "id": "54bd6145",
   "metadata": {},
   "outputs": [
    {
     "data": {
      "text/plain": [
       "array([[-114.31  ,   34.19  ,   15.    , ..., 1015.    ,  472.    ,\n",
       "           1.4936],\n",
       "       [-114.47  ,   34.4   ,   19.    , ..., 1129.    ,  463.    ,\n",
       "           1.82  ],\n",
       "       [-114.56  ,   33.69  ,   17.    , ...,  333.    ,  117.    ,\n",
       "           1.6509],\n",
       "       ...,\n",
       "       [-124.27  ,   40.69  ,   36.    , ..., 1194.    ,  465.    ,\n",
       "           2.5179],\n",
       "       [-124.3   ,   41.84  ,   17.    , ..., 1244.    ,  456.    ,\n",
       "           3.0313],\n",
       "       [-124.35  ,   40.54  ,   52.    , ...,  806.    ,  270.    ,\n",
       "           3.0147]])"
      ]
     },
     "execution_count": 167,
     "metadata": {},
     "output_type": "execute_result"
    }
   ],
   "source": [
    "X"
   ]
  },
  {
   "cell_type": "code",
   "execution_count": 168,
   "id": "be6e6bcf",
   "metadata": {},
   "outputs": [
    {
     "data": {
      "text/plain": [
       "array([ 66900,  80100,  85700, ...,  79000, 103600,  94600], dtype=int64)"
      ]
     },
     "execution_count": 168,
     "metadata": {},
     "output_type": "execute_result"
    }
   ],
   "source": [
    "Y"
   ]
  },
  {
   "cell_type": "code",
   "execution_count": 169,
   "id": "a327f199",
   "metadata": {},
   "outputs": [],
   "source": [
    "from sklearn.model_selection import train_test_split"
   ]
  },
  {
   "cell_type": "code",
   "execution_count": 170,
   "id": "98b58c1c",
   "metadata": {},
   "outputs": [],
   "source": [
    "x_train,x_test,y_train,y_test=train_test_split(X,Y,test_size=0.2)"
   ]
  },
  {
   "cell_type": "markdown",
   "id": "e4daf0a6",
   "metadata": {},
   "source": [
    "# Feature Scaling\n",
    "Make values at same scale<br>\n",
    " **1.** Standardization<br>\n",
    "        ${X_i}=\\frac{(X_i - mean)}{std}$<br>\n",
    " **2.** Normlization<br>\n",
    "        ${X_i}=\\frac{(X_i - min_x)}{(\\epsilon - min_x)}$"
   ]
  },
  {
   "cell_type": "code",
   "execution_count": 177,
   "id": "1f6d5a94",
   "metadata": {},
   "outputs": [],
   "source": [
    "data=pd.read_csv('E:DS/Datasets/diabetes.csv')"
   ]
  },
  {
   "cell_type": "code",
   "execution_count": 178,
   "id": "29181c73",
   "metadata": {},
   "outputs": [
    {
     "data": {
      "text/html": [
       "<div>\n",
       "<style scoped>\n",
       "    .dataframe tbody tr th:only-of-type {\n",
       "        vertical-align: middle;\n",
       "    }\n",
       "\n",
       "    .dataframe tbody tr th {\n",
       "        vertical-align: top;\n",
       "    }\n",
       "\n",
       "    .dataframe thead th {\n",
       "        text-align: right;\n",
       "    }\n",
       "</style>\n",
       "<table border=\"1\" class=\"dataframe\">\n",
       "  <thead>\n",
       "    <tr style=\"text-align: right;\">\n",
       "      <th></th>\n",
       "      <th>Pregnancies</th>\n",
       "      <th>Glucose</th>\n",
       "      <th>BloodPressure</th>\n",
       "      <th>SkinThickness</th>\n",
       "      <th>Insulin</th>\n",
       "      <th>BMI</th>\n",
       "      <th>DiabetesPedigreeFunction</th>\n",
       "      <th>Age</th>\n",
       "      <th>Outcome</th>\n",
       "    </tr>\n",
       "  </thead>\n",
       "  <tbody>\n",
       "    <tr>\n",
       "      <th>0</th>\n",
       "      <td>6</td>\n",
       "      <td>148</td>\n",
       "      <td>72</td>\n",
       "      <td>35</td>\n",
       "      <td>0</td>\n",
       "      <td>33.6</td>\n",
       "      <td>0.627</td>\n",
       "      <td>50</td>\n",
       "      <td>1</td>\n",
       "    </tr>\n",
       "    <tr>\n",
       "      <th>1</th>\n",
       "      <td>1</td>\n",
       "      <td>85</td>\n",
       "      <td>66</td>\n",
       "      <td>29</td>\n",
       "      <td>0</td>\n",
       "      <td>26.6</td>\n",
       "      <td>0.351</td>\n",
       "      <td>31</td>\n",
       "      <td>0</td>\n",
       "    </tr>\n",
       "    <tr>\n",
       "      <th>2</th>\n",
       "      <td>8</td>\n",
       "      <td>183</td>\n",
       "      <td>64</td>\n",
       "      <td>0</td>\n",
       "      <td>0</td>\n",
       "      <td>23.3</td>\n",
       "      <td>0.672</td>\n",
       "      <td>32</td>\n",
       "      <td>1</td>\n",
       "    </tr>\n",
       "    <tr>\n",
       "      <th>3</th>\n",
       "      <td>1</td>\n",
       "      <td>89</td>\n",
       "      <td>66</td>\n",
       "      <td>23</td>\n",
       "      <td>94</td>\n",
       "      <td>28.1</td>\n",
       "      <td>0.167</td>\n",
       "      <td>21</td>\n",
       "      <td>0</td>\n",
       "    </tr>\n",
       "    <tr>\n",
       "      <th>4</th>\n",
       "      <td>0</td>\n",
       "      <td>137</td>\n",
       "      <td>40</td>\n",
       "      <td>35</td>\n",
       "      <td>168</td>\n",
       "      <td>43.1</td>\n",
       "      <td>2.288</td>\n",
       "      <td>33</td>\n",
       "      <td>1</td>\n",
       "    </tr>\n",
       "  </tbody>\n",
       "</table>\n",
       "</div>"
      ],
      "text/plain": [
       "   Pregnancies  Glucose  BloodPressure  SkinThickness  Insulin   BMI  \\\n",
       "0            6      148             72             35        0  33.6   \n",
       "1            1       85             66             29        0  26.6   \n",
       "2            8      183             64              0        0  23.3   \n",
       "3            1       89             66             23       94  28.1   \n",
       "4            0      137             40             35      168  43.1   \n",
       "\n",
       "   DiabetesPedigreeFunction  Age  Outcome  \n",
       "0                     0.627   50        1  \n",
       "1                     0.351   31        0  \n",
       "2                     0.672   32        1  \n",
       "3                     0.167   21        0  \n",
       "4                     2.288   33        1  "
      ]
     },
     "execution_count": 178,
     "metadata": {},
     "output_type": "execute_result"
    }
   ],
   "source": [
    "data.head()"
   ]
  },
  {
   "cell_type": "code",
   "execution_count": 179,
   "id": "d4e8110e",
   "metadata": {},
   "outputs": [],
   "source": [
    "X=data.iloc[:,:-1].values"
   ]
  },
  {
   "cell_type": "code",
   "execution_count": 175,
   "id": "2e749b4f",
   "metadata": {},
   "outputs": [],
   "source": [
    "Y=data.iloc[:,8].values"
   ]
  },
  {
   "cell_type": "code",
   "execution_count": null,
   "id": "856f3ff3",
   "metadata": {
    "scrolled": true
   },
   "outputs": [],
   "source": [
    "X\n"
   ]
  },
  {
   "cell_type": "code",
   "execution_count": 181,
   "id": "faf5c02f",
   "metadata": {},
   "outputs": [],
   "source": [
    "np.set_printoptions(edgeitems=127)"
   ]
  },
  {
   "cell_type": "code",
   "execution_count": 182,
   "id": "fee82c9c",
   "metadata": {},
   "outputs": [],
   "source": [
    "from sklearn.model_selection import train_test_split"
   ]
  },
  {
   "cell_type": "code",
   "execution_count": 183,
   "id": "f105e506",
   "metadata": {},
   "outputs": [],
   "source": [
    "x_train,x_test,y_train,y_test=train_test_split(X,Y,test_size=0.2)"
   ]
  },
  {
   "cell_type": "code",
   "execution_count": 184,
   "id": "f1f6db72",
   "metadata": {},
   "outputs": [],
   "source": [
    "from sklearn.preprocessing import StandardScaler"
   ]
  },
  {
   "cell_type": "code",
   "execution_count": 185,
   "id": "e4ee0fc4",
   "metadata": {},
   "outputs": [],
   "source": [
    "ss=StandardScaler()"
   ]
  },
  {
   "cell_type": "code",
   "execution_count": 186,
   "id": "8f3748f2",
   "metadata": {},
   "outputs": [],
   "source": [
    "x_train=ss.fit_transform(x_train)\n",
    "x_test=ss.transform(x_test)"
   ]
  },
  {
   "cell_type": "code",
   "execution_count": null,
   "id": "baa6239b",
   "metadata": {},
   "outputs": [],
   "source": [
    "x_train"
   ]
  },
  {
   "cell_type": "code",
   "execution_count": null,
   "id": "4c7fda0d",
   "metadata": {},
   "outputs": [],
   "source": [
    "x_test"
   ]
  },
  {
   "cell_type": "markdown",
   "id": "cf8a8469",
   "metadata": {},
   "source": [
    "# Outlier Detections "
   ]
  },
  {
   "cell_type": "code",
   "execution_count": 2,
   "id": "d0ff6050",
   "metadata": {},
   "outputs": [],
   "source": [
    "from sklearn.datasets import load_boston"
   ]
  },
  {
   "cell_type": "code",
   "execution_count": null,
   "id": "c6a6a689",
   "metadata": {
    "scrolled": false
   },
   "outputs": [],
   "source": [
    "boston=load_boston()\n",
    "print(boston.data.shape)\n",
    "print(boston.feature_names)"
   ]
  },
  {
   "cell_type": "code",
   "execution_count": 4,
   "id": "37f44d99",
   "metadata": {},
   "outputs": [],
   "source": [
    "data=pd.DataFrame(boston.data, columns=boston.feature_names)"
   ]
  },
  {
   "cell_type": "code",
   "execution_count": 5,
   "id": "630dca7f",
   "metadata": {},
   "outputs": [
    {
     "data": {
      "text/plain": [
       "(506, 13)"
      ]
     },
     "execution_count": 5,
     "metadata": {},
     "output_type": "execute_result"
    }
   ],
   "source": [
    "data.shape"
   ]
  },
  {
   "cell_type": "code",
   "execution_count": 6,
   "id": "6a83c92a",
   "metadata": {
    "scrolled": false
   },
   "outputs": [
    {
     "data": {
      "text/html": [
       "<div>\n",
       "<style scoped>\n",
       "    .dataframe tbody tr th:only-of-type {\n",
       "        vertical-align: middle;\n",
       "    }\n",
       "\n",
       "    .dataframe tbody tr th {\n",
       "        vertical-align: top;\n",
       "    }\n",
       "\n",
       "    .dataframe thead th {\n",
       "        text-align: right;\n",
       "    }\n",
       "</style>\n",
       "<table border=\"1\" class=\"dataframe\">\n",
       "  <thead>\n",
       "    <tr style=\"text-align: right;\">\n",
       "      <th></th>\n",
       "      <th>CRIM</th>\n",
       "      <th>ZN</th>\n",
       "      <th>INDUS</th>\n",
       "      <th>CHAS</th>\n",
       "      <th>NOX</th>\n",
       "      <th>RM</th>\n",
       "      <th>AGE</th>\n",
       "      <th>DIS</th>\n",
       "      <th>RAD</th>\n",
       "      <th>TAX</th>\n",
       "      <th>PTRATIO</th>\n",
       "      <th>B</th>\n",
       "      <th>LSTAT</th>\n",
       "    </tr>\n",
       "  </thead>\n",
       "  <tbody>\n",
       "    <tr>\n",
       "      <th>0</th>\n",
       "      <td>0.00632</td>\n",
       "      <td>18.0</td>\n",
       "      <td>2.31</td>\n",
       "      <td>0.0</td>\n",
       "      <td>0.538</td>\n",
       "      <td>6.575</td>\n",
       "      <td>65.2</td>\n",
       "      <td>4.0900</td>\n",
       "      <td>1.0</td>\n",
       "      <td>296.0</td>\n",
       "      <td>15.3</td>\n",
       "      <td>396.90</td>\n",
       "      <td>4.98</td>\n",
       "    </tr>\n",
       "    <tr>\n",
       "      <th>1</th>\n",
       "      <td>0.02731</td>\n",
       "      <td>0.0</td>\n",
       "      <td>7.07</td>\n",
       "      <td>0.0</td>\n",
       "      <td>0.469</td>\n",
       "      <td>6.421</td>\n",
       "      <td>78.9</td>\n",
       "      <td>4.9671</td>\n",
       "      <td>2.0</td>\n",
       "      <td>242.0</td>\n",
       "      <td>17.8</td>\n",
       "      <td>396.90</td>\n",
       "      <td>9.14</td>\n",
       "    </tr>\n",
       "    <tr>\n",
       "      <th>2</th>\n",
       "      <td>0.02729</td>\n",
       "      <td>0.0</td>\n",
       "      <td>7.07</td>\n",
       "      <td>0.0</td>\n",
       "      <td>0.469</td>\n",
       "      <td>7.185</td>\n",
       "      <td>61.1</td>\n",
       "      <td>4.9671</td>\n",
       "      <td>2.0</td>\n",
       "      <td>242.0</td>\n",
       "      <td>17.8</td>\n",
       "      <td>392.83</td>\n",
       "      <td>4.03</td>\n",
       "    </tr>\n",
       "    <tr>\n",
       "      <th>3</th>\n",
       "      <td>0.03237</td>\n",
       "      <td>0.0</td>\n",
       "      <td>2.18</td>\n",
       "      <td>0.0</td>\n",
       "      <td>0.458</td>\n",
       "      <td>6.998</td>\n",
       "      <td>45.8</td>\n",
       "      <td>6.0622</td>\n",
       "      <td>3.0</td>\n",
       "      <td>222.0</td>\n",
       "      <td>18.7</td>\n",
       "      <td>394.63</td>\n",
       "      <td>2.94</td>\n",
       "    </tr>\n",
       "    <tr>\n",
       "      <th>4</th>\n",
       "      <td>0.06905</td>\n",
       "      <td>0.0</td>\n",
       "      <td>2.18</td>\n",
       "      <td>0.0</td>\n",
       "      <td>0.458</td>\n",
       "      <td>7.147</td>\n",
       "      <td>54.2</td>\n",
       "      <td>6.0622</td>\n",
       "      <td>3.0</td>\n",
       "      <td>222.0</td>\n",
       "      <td>18.7</td>\n",
       "      <td>396.90</td>\n",
       "      <td>5.33</td>\n",
       "    </tr>\n",
       "  </tbody>\n",
       "</table>\n",
       "</div>"
      ],
      "text/plain": [
       "      CRIM    ZN  INDUS  CHAS    NOX     RM   AGE     DIS  RAD    TAX  \\\n",
       "0  0.00632  18.0   2.31   0.0  0.538  6.575  65.2  4.0900  1.0  296.0   \n",
       "1  0.02731   0.0   7.07   0.0  0.469  6.421  78.9  4.9671  2.0  242.0   \n",
       "2  0.02729   0.0   7.07   0.0  0.469  7.185  61.1  4.9671  2.0  242.0   \n",
       "3  0.03237   0.0   2.18   0.0  0.458  6.998  45.8  6.0622  3.0  222.0   \n",
       "4  0.06905   0.0   2.18   0.0  0.458  7.147  54.2  6.0622  3.0  222.0   \n",
       "\n",
       "   PTRATIO       B  LSTAT  \n",
       "0     15.3  396.90   4.98  \n",
       "1     17.8  396.90   9.14  \n",
       "2     17.8  392.83   4.03  \n",
       "3     18.7  394.63   2.94  \n",
       "4     18.7  396.90   5.33  "
      ]
     },
     "execution_count": 6,
     "metadata": {},
     "output_type": "execute_result"
    }
   ],
   "source": [
    "data.head()"
   ]
  },
  {
   "cell_type": "code",
   "execution_count": 7,
   "id": "decdc244",
   "metadata": {},
   "outputs": [
    {
     "name": "stdout",
     "output_type": "stream",
     "text": [
      "<class 'pandas.core.frame.DataFrame'>\n",
      "RangeIndex: 506 entries, 0 to 505\n",
      "Data columns (total 13 columns):\n",
      " #   Column   Non-Null Count  Dtype  \n",
      "---  ------   --------------  -----  \n",
      " 0   CRIM     506 non-null    float64\n",
      " 1   ZN       506 non-null    float64\n",
      " 2   INDUS    506 non-null    float64\n",
      " 3   CHAS     506 non-null    float64\n",
      " 4   NOX      506 non-null    float64\n",
      " 5   RM       506 non-null    float64\n",
      " 6   AGE      506 non-null    float64\n",
      " 7   DIS      506 non-null    float64\n",
      " 8   RAD      506 non-null    float64\n",
      " 9   TAX      506 non-null    float64\n",
      " 10  PTRATIO  506 non-null    float64\n",
      " 11  B        506 non-null    float64\n",
      " 12  LSTAT    506 non-null    float64\n",
      "dtypes: float64(13)\n",
      "memory usage: 51.5 KB\n"
     ]
    }
   ],
   "source": [
    "data.info()"
   ]
  },
  {
   "cell_type": "code",
   "execution_count": 212,
   "id": "97e4fde6",
   "metadata": {},
   "outputs": [],
   "source": [
    "import matplotlib.pyplot as plt\n",
    "import seaborn as sns\n",
    "%matplotlib inline"
   ]
  },
  {
   "cell_type": "code",
   "execution_count": 226,
   "id": "6e3c6ee8",
   "metadata": {},
   "outputs": [
    {
     "data": {
      "text/plain": [
       "<AxesSubplot:xlabel='variable', ylabel='value'>"
      ]
     },
     "execution_count": 226,
     "metadata": {},
     "output_type": "execute_result"
    },
    {
     "data": {
      "image/png": "[encoded data removed]",
      "text/plain": [
       "<Figure size 432x288 with 1 Axes>"
      ]
     },
     "metadata": {
      "needs_background": "light"
     },
     "output_type": "display_data"
    }
   ],
   "source": [
    "bx=data[['CRIM','DIS']]\n",
    "sns.boxplot(x='variable',y='value',data=pd.melt(bx))"
   ]
  },
  {
   "cell_type": "code",
   "execution_count": 227,
   "id": "e33f5760",
   "metadata": {},
   "outputs": [
    {
     "data": {
      "text/plain": [
       "<AxesSubplot:xlabel='CRIM'>"
      ]
     },
     "execution_count": 227,
     "metadata": {},
     "output_type": "execute_result"
    },
    {
     "data": {
      "image/png": "[encoded data removed]",
      "text/plain": [
       "<Figure size 432x288 with 1 Axes>"
      ]
     },
     "metadata": {
      "needs_background": "light"
     },
     "output_type": "display_data"
    }
   ],
   "source": [
    "sns.boxplot(x=data['CRIM'])"
   ]
  },
  {
   "cell_type": "code",
   "execution_count": 10,
   "id": "3bc7b24d",
   "metadata": {},
   "outputs": [],
   "source": [
    "from scipy import stats"
   ]
  },
  {
   "cell_type": "code",
   "execution_count": 20,
   "id": "0b4a2015",
   "metadata": {},
   "outputs": [],
   "source": [
    "boston_c=data"
   ]
  },
  {
   "cell_type": "code",
   "execution_count": 21,
   "id": "6cc15515",
   "metadata": {},
   "outputs": [],
   "source": [
    "zcore=np.abs(stats.zscore(boston_c))"
   ]
  },
  {
   "cell_type": "code",
   "execution_count": 22,
   "id": "e0175b33",
   "metadata": {},
   "outputs": [],
   "source": [
    "boston_clean=boston_c"
   ]
  },
  {
   "cell_type": "code",
   "execution_count": 23,
   "id": "53431e82",
   "metadata": {},
   "outputs": [],
   "source": [
    "#Remove outliers using zscore\n",
    "boston_clean=boston_clean[(zcore<3).all(axis=1)]"
   ]
  },
  {
   "cell_type": "code",
   "execution_count": 24,
   "id": "829f8971",
   "metadata": {},
   "outputs": [
    {
     "data": {
      "text/plain": [
       "(506, 13)"
      ]
     },
     "execution_count": 24,
     "metadata": {},
     "output_type": "execute_result"
    }
   ],
   "source": [
    "boston_c.shape"
   ]
  },
  {
   "cell_type": "code",
   "execution_count": 25,
   "id": "48a8269a",
   "metadata": {},
   "outputs": [
    {
     "data": {
      "text/plain": [
       "(415, 13)"
      ]
     },
     "execution_count": 25,
     "metadata": {},
     "output_type": "execute_result"
    }
   ],
   "source": [
    "boston_clean.shape"
   ]
  },
  {
   "cell_type": "code",
   "execution_count": 26,
   "id": "c1f4cdf5",
   "metadata": {},
   "outputs": [],
   "source": [
    "boston_iqr=data\n",
    "Q1=boston_iqr.quantile(0.25)\n",
    "Q3=boston_iqr.quantile(0.75)\n",
    "IQR=Q3-Q1"
   ]
  },
  {
   "cell_type": "code",
   "execution_count": 27,
   "id": "7bf1ae72",
   "metadata": {},
   "outputs": [],
   "source": [
    "#Remove outliers using IQR(Inter quartile range)\n",
    "boston_iqr=boston_iqr[~((boston_iqr < Q1 - (1.5 * IQR)) | (boston_iqr > (Q3 + 1.5 * IQR))).any(axis=1)]"
   ]
  },
  {
   "cell_type": "code",
   "execution_count": 28,
   "id": "453e4115",
   "metadata": {},
   "outputs": [
    {
     "data": {
      "text/plain": [
       "(274, 13)"
      ]
     },
     "execution_count": 28,
     "metadata": {},
     "output_type": "execute_result"
    }
   ],
   "source": [
    "boston_iqr.shape"
   ]
  },
  {
   "cell_type": "markdown",
   "id": "59c4cc2c",
   "metadata": {},
   "source": [
    "### $log_{10}$ Transformation (Convert Skewed data into Normal Distribution)\n",
    "It is used when data is positively skewed(higly skewed in right hence side) and negatively skewed vice versa. It can't be applied on zero or negative value. "
   ]
  },
  {
   "cell_type": "code",
   "execution_count": 40,
   "id": "bf1b750e",
   "metadata": {},
   "outputs": [],
   "source": [
    "import numpy as np\n",
    "import pandas as pd\n",
    "import seaborn as sns\n",
    "import matplotlib.pyplot as plt\n",
    "%matplotlib inline"
   ]
  },
  {
   "cell_type": "code",
   "execution_count": 83,
   "id": "37c7d428",
   "metadata": {},
   "outputs": [],
   "source": [
    "data=pd.read_csv('E:DS/Datasets/skewed.csv')"
   ]
  },
  {
   "cell_type": "code",
   "execution_count": 84,
   "id": "37ac90f8",
   "metadata": {},
   "outputs": [
    {
     "data": {
      "text/html": [
       "<div>\n",
       "<style scoped>\n",
       "    .dataframe tbody tr th:only-of-type {\n",
       "        vertical-align: middle;\n",
       "    }\n",
       "\n",
       "    .dataframe tbody tr th {\n",
       "        vertical-align: top;\n",
       "    }\n",
       "\n",
       "    .dataframe thead th {\n",
       "        text-align: right;\n",
       "    }\n",
       "</style>\n",
       "<table border=\"1\" class=\"dataframe\">\n",
       "  <thead>\n",
       "    <tr style=\"text-align: right;\">\n",
       "      <th></th>\n",
       "      <th>Positive Skewed</th>\n",
       "      <th>Negative Skewed</th>\n",
       "      <th>Normally Distributed</th>\n",
       "    </tr>\n",
       "  </thead>\n",
       "  <tbody>\n",
       "    <tr>\n",
       "      <th>0</th>\n",
       "      <td>10</td>\n",
       "      <td>1</td>\n",
       "      <td>1</td>\n",
       "    </tr>\n",
       "    <tr>\n",
       "      <th>1</th>\n",
       "      <td>1</td>\n",
       "      <td>1</td>\n",
       "      <td>1</td>\n",
       "    </tr>\n",
       "    <tr>\n",
       "      <th>2</th>\n",
       "      <td>1</td>\n",
       "      <td>1</td>\n",
       "      <td>1</td>\n",
       "    </tr>\n",
       "    <tr>\n",
       "      <th>3</th>\n",
       "      <td>11</td>\n",
       "      <td>1</td>\n",
       "      <td>5</td>\n",
       "    </tr>\n",
       "    <tr>\n",
       "      <th>4</th>\n",
       "      <td>1</td>\n",
       "      <td>10</td>\n",
       "      <td>5</td>\n",
       "    </tr>\n",
       "  </tbody>\n",
       "</table>\n",
       "</div>"
      ],
      "text/plain": [
       "   Positive Skewed  Negative Skewed  Normally Distributed\n",
       "0               10                1                     1\n",
       "1                1                1                     1\n",
       "2                1                1                     1\n",
       "3               11                1                     5\n",
       "4                1               10                     5"
      ]
     },
     "execution_count": 84,
     "metadata": {},
     "output_type": "execute_result"
    }
   ],
   "source": [
    "data.head()"
   ]
  },
  {
   "cell_type": "code",
   "execution_count": 67,
   "id": "384bb9c0",
   "metadata": {},
   "outputs": [
    {
     "data": {
      "text/plain": [
       "Index(['Positive Skewed', 'Negative Skewed', 'Normally Distributed'], dtype='object')"
      ]
     },
     "execution_count": 67,
     "metadata": {},
     "output_type": "execute_result"
    }
   ],
   "source": [
    "data.columns"
   ]
  },
  {
   "cell_type": "code",
   "execution_count": 78,
   "id": "c6455f3c",
   "metadata": {},
   "outputs": [
    {
     "data": {
      "text/plain": [
       "<AxesSubplot:xlabel='variable', ylabel='value'>"
      ]
     },
     "execution_count": 78,
     "metadata": {},
     "output_type": "execute_result"
    },
    {
     "data": {
      "image/png": "[encoded data removed]",
      "text/plain": [
       "<Figure size 432x288 with 1 Axes>"
      ]
     },
     "metadata": {
      "needs_background": "light"
     },
     "output_type": "display_data"
    }
   ],
   "source": [
    "sns.boxplot(x='variable',y='value',data=data.melt())"
   ]
  },
  {
   "cell_type": "code",
   "execution_count": 79,
   "id": "024156fc",
   "metadata": {},
   "outputs": [
    {
     "name": "stdout",
     "output_type": "stream",
     "text": [
      "Mean Positive 29.75925925925926\n",
      "Median Positive 11.0\n",
      "Mean Negative Skewed 15.907407407407407\n",
      "Median Negative Skewed 5.0\n"
     ]
    }
   ],
   "source": [
    "print('Mean Positive',np.mean(data['Positive Skewed']))\n",
    "print('Median Positive',np.median(data['Positive Skewed']))\n",
    "print('Mean Negative Skewed',np.mean(data['Negative Skewed']))\n",
    "print('Median Negative Skewed',np.median(data['Negative Skewed']))"
   ]
  },
  {
   "cell_type": "code",
   "execution_count": 75,
   "id": "587a347e",
   "metadata": {},
   "outputs": [
    {
     "data": {
      "image/png": "[encoded data removed]",
      "text/plain": [
       "<Figure size 1080x720 with 1 Axes>"
      ]
     },
     "metadata": {
      "needs_background": "light"
     },
     "output_type": "display_data"
    }
   ],
   "source": [
    "plt.figure(figsize=(15,10))\n",
    "sns.histplot(data['Positive Skewed'],bins=10)\n",
    "sns.despine(offset=5,trim=True)\n",
    "#plot mean\n",
    "mean=np.mean(data['Positive Skewed'])\n",
    "mp1=(mean,0)\n",
    "mp2=(mean,30)\n",
    "mx,my=zip(mp1,mp2)\n",
    "plt.plot(mx,my,color='green',linewidth=2)\n",
    "#plot median\n",
    "median=np.median(data['Positive Skewed'])\n",
    "mp11=(median,0)\n",
    "mp22=(median,30)\n",
    "mx,my=zip(mp11,mp22)\n",
    "plt.plot(mx,my,color='red',linewidth=2)\n",
    "plt.show()"
   ]
  },
  {
   "cell_type": "code",
   "execution_count": 73,
   "id": "9a5c761e",
   "metadata": {},
   "outputs": [
    {
     "name": "stderr",
     "output_type": "stream",
     "text": [
      "No artists with labels found to put in legend.  Note that artists whose label start with an underscore are ignored when legend() is called with no argument.\n"
     ]
    },
    {
     "data": {
      "text/plain": [
       "<Figure size 1080x720 with 0 Axes>"
      ]
     },
     "metadata": {},
     "output_type": "display_data"
    },
    {
     "data": {
      "image/png": "[encoded data removed]",
      "text/plain": [
       "<Figure size 360x360 with 1 Axes>"
      ]
     },
     "metadata": {
      "needs_background": "light"
     },
     "output_type": "display_data"
    }
   ],
   "source": [
    "plt.figure(figsize=(15,10))\n",
    "sns.displot(data['Negative Skewed'],bins=10)\n",
    "sns.despine(offset=5,trim=True)\n",
    "#plot mean\n",
    "mp1=(data['Negative Skewed'].mean(),0)\n",
    "mp2=(data['Negative Skewed'].mean(),30)\n",
    "mx,my=zip(mp1,mp2)\n",
    "plt.plot(mx,my,color='green',linewidth=2)\n",
    "#plot median\n",
    "mp11=(data['Negative Skewed'].median(),0)\n",
    "mp22=(data['Negative Skewed'].median(),30)\n",
    "mx,my=zip(mp11,mp22)\n",
    "plt.plot(mx,my,color='red',linewidth=2)\n",
    "plt.legend()\n",
    "plt.show()"
   ]
  },
  {
   "cell_type": "code",
   "execution_count": 85,
   "id": "9798e179",
   "metadata": {},
   "outputs": [],
   "source": [
    "positively_skewed_log10=np.log10(data['Positive Skewed'])"
   ]
  },
  {
   "cell_type": "code",
   "execution_count": null,
   "id": "77a93c72",
   "metadata": {},
   "outputs": [],
   "source": [
    "positively_skewed_log10"
   ]
  },
  {
   "cell_type": "code",
   "execution_count": 88,
   "id": "08f403d3",
   "metadata": {},
   "outputs": [
    {
     "name": "stderr",
     "output_type": "stream",
     "text": [
      "C:\\Users\\RizzWann\\anaconda3\\envs\\PracticeStats\\lib\\site-packages\\seaborn\\distributions.py:2619: FutureWarning: `distplot` is a deprecated function and will be removed in a future version. Please adapt your code to use either `displot` (a figure-level function with similar flexibility) or `histplot` (an axes-level function for histograms).\n",
      "  warnings.warn(msg, FutureWarning)\n"
     ]
    },
    {
     "data": {
      "text/plain": [
       "<AxesSubplot:xlabel='Positive Skewed', ylabel='Density'>"
      ]
     },
     "execution_count": 88,
     "metadata": {},
     "output_type": "execute_result"
    },
    {
     "data": {
      "image/png": "[encoded data removed]",
      "text/plain": [
       "<Figure size 432x288 with 1 Axes>"
      ]
     },
     "metadata": {
      "needs_background": "light"
     },
     "output_type": "display_data"
    }
   ],
   "source": [
    "sns.distplot(positively_skewed_log10)"
   ]
  },
  {
   "cell_type": "code",
   "execution_count": null,
   "id": "628f6ddf",
   "metadata": {
    "scrolled": true
   },
   "outputs": [],
   "source": [
    "nag_skewed_log10=np.log10(data['Negative Skewed'])\n",
    "nag_skewed_log10"
   ]
  },
  {
   "cell_type": "code",
   "execution_count": 91,
   "id": "ff683fe5",
   "metadata": {},
   "outputs": [
    {
     "name": "stderr",
     "output_type": "stream",
     "text": [
      "C:\\Users\\RizzWann\\anaconda3\\envs\\PracticeStats\\lib\\site-packages\\seaborn\\distributions.py:2619: FutureWarning: `distplot` is a deprecated function and will be removed in a future version. Please adapt your code to use either `displot` (a figure-level function with similar flexibility) or `histplot` (an axes-level function for histograms).\n",
      "  warnings.warn(msg, FutureWarning)\n"
     ]
    },
    {
     "data": {
      "text/plain": [
       "<AxesSubplot:xlabel='Negative Skewed', ylabel='Density'>"
      ]
     },
     "execution_count": 91,
     "metadata": {},
     "output_type": "execute_result"
    },
    {
     "data": {
      "image/png": "[encoded data removed]",
      "text/plain": [
       "<Figure size 432x288 with 1 Axes>"
      ]
     },
     "metadata": {
      "needs_background": "light"
     },
     "output_type": "display_data"
    }
   ],
   "source": [
    "sns.distplot(nag_skewed_log10)"
   ]
  },
  {
   "cell_type": "code",
   "execution_count": 98,
   "id": "585fe872",
   "metadata": {},
   "outputs": [
    {
     "data": {
      "text/plain": [
       "<AxesSubplot:>"
      ]
     },
     "execution_count": 98,
     "metadata": {},
     "output_type": "execute_result"
    },
    {
     "data": {
      "image/png": "[encoded data removed]",
      "text/plain": [
       "<Figure size 432x288 with 1 Axes>"
      ]
     },
     "metadata": {
      "needs_background": "light"
     },
     "output_type": "display_data"
    }
   ],
   "source": [
    "sns.boxplot(data=nag_skewed_log10,orient='h')"
   ]
  },
  {
   "cell_type": "code",
   "execution_count": 99,
   "id": "3aa1e239",
   "metadata": {},
   "outputs": [
    {
     "data": {
      "text/plain": [
       "<AxesSubplot:>"
      ]
     },
     "execution_count": 99,
     "metadata": {},
     "output_type": "execute_result"
    },
    {
     "data": {
      "image/png": "[encoded data removed]",
      "text/plain": [
       "<Figure size 432x288 with 1 Axes>"
      ]
     },
     "metadata": {
      "needs_background": "light"
     },
     "output_type": "display_data"
    }
   ],
   "source": [
    "sns.boxplot(data=positively_skewed_log10,orient='h')"
   ]
  },
  {
   "cell_type": "markdown",
   "id": "01b7a511",
   "metadata": {},
   "source": [
    "### Square Root Transformation\n",
    "It is weaker than log10. It also can apply at zero values. But it cant apply at negative."
   ]
  },
  {
   "cell_type": "code",
   "execution_count": 100,
   "id": "a727d2a3",
   "metadata": {},
   "outputs": [
    {
     "data": {
      "text/plain": [
       "0      1.000000\n",
       "1      1.000000\n",
       "2      1.000000\n",
       "3      1.000000\n",
       "4      3.162278\n",
       "5      3.162278\n",
       "6      3.872983\n",
       "7      3.872983\n",
       "8      4.472136\n",
       "9      4.472136\n",
       "10     5.477226\n",
       "11     7.071068\n",
       "12    10.954451\n",
       "13    11.401754\n",
       "14    10.954451\n",
       "15     7.071068\n",
       "16     5.477226\n",
       "17     5.477226\n",
       "18     5.000000\n",
       "19     4.472136\n",
       "20     4.472136\n",
       "21     3.872983\n",
       "22     3.872983\n",
       "23     3.605551\n",
       "24     3.316625\n",
       "25     3.000000\n",
       "26     2.645751\n",
       "27     2.449490\n",
       "28     2.449490\n",
       "29     2.236068\n",
       "30     2.236068\n",
       "31     2.236068\n",
       "32     2.000000\n",
       "33     2.000000\n",
       "34     2.000000\n",
       "35     2.000000\n",
       "36     1.732051\n",
       "37     1.732051\n",
       "38     1.732051\n",
       "39     1.732051\n",
       "40     1.414214\n",
       "41     1.414214\n",
       "42     1.414214\n",
       "43     1.414214\n",
       "44     1.414214\n",
       "45     1.000000\n",
       "46     1.000000\n",
       "47     1.000000\n",
       "48     1.000000\n",
       "49     1.000000\n",
       "50     1.000000\n",
       "51     1.000000\n",
       "52     1.000000\n",
       "53     1.000000\n",
       "Name: Negative Skewed, dtype: float64"
      ]
     },
     "execution_count": 100,
     "metadata": {},
     "output_type": "execute_result"
    }
   ],
   "source": [
    "nag_skewed_sqrt=np.sqrt(data['Negative Skewed'])\n",
    "nag_skewed_sqrt"
   ]
  },
  {
   "cell_type": "code",
   "execution_count": 101,
   "id": "ee1caf30",
   "metadata": {},
   "outputs": [
    {
     "data": {
      "text/plain": [
       "<AxesSubplot:>"
      ]
     },
     "execution_count": 101,
     "metadata": {},
     "output_type": "execute_result"
    },
    {
     "data": {
      "image/png": "[encoded data removed]",
      "text/plain": [
       "<Figure size 432x288 with 1 Axes>"
      ]
     },
     "metadata": {
      "needs_background": "light"
     },
     "output_type": "display_data"
    }
   ],
   "source": [
    "sns.boxplot(data=nag_skewed_sqrt,orient='h')"
   ]
  },
  {
   "cell_type": "code",
   "execution_count": 102,
   "id": "92cf6169",
   "metadata": {},
   "outputs": [],
   "source": [
    "import re "
   ]
  },
  {
   "cell_type": "code",
   "execution_count": 178,
   "id": "f8f0936e",
   "metadata": {},
   "outputs": [],
   "source": [
    "rawData={'data':[   \"5001 1.0002 None 2018-01-20 no\" ,\n",
    "\t\t\t\t  \"5002 2000.0 Glazed 2018-01-21 yes\" ,\n",
    "\t\t\t\t  \"5005 30.05   Sugar 2018-01-22 yes\" ,\n",
    "\t\t\t\t  \"5003 4.004   Chocolate 2018-01-23 no\" ,\n",
    "\t\t\t\t  \"5004 5.0   Maple 2018-01-25 yes\" ]}"
   ]
  },
  {
   "cell_type": "code",
   "execution_count": 199,
   "id": "bc31ab06",
   "metadata": {},
   "outputs": [
    {
     "data": {
      "text/plain": [
       "0    5004\n",
       "1    5004\n",
       "2    5004\n",
       "3    5004\n",
       "4    5004\n",
       "Name: id, dtype: object"
      ]
     },
     "execution_count": 199,
     "metadata": {},
     "output_type": "execute_result"
    }
   ],
   "source": [
    "data=pd.DataFrame(rawData,columns=['data'])\n",
    "for r in range(0,len(data)):\n",
    "    data['id']=str.split(data['data'][r])[0]\n",
    "data['id']"
   ]
  },
  {
   "cell_type": "code",
   "execution_count": 192,
   "id": "6f8a76e4",
   "metadata": {},
   "outputs": [],
   "source": [
    "data['Name']=data['data'].str.extract('([A-Z]\\w{0,})',expand=True)"
   ]
  },
  {
   "cell_type": "code",
   "execution_count": 193,
   "id": "965edcc1",
   "metadata": {},
   "outputs": [
    {
     "data": {
      "text/plain": [
       "0         None\n",
       "1       Glazed\n",
       "2        Sugar\n",
       "3    Chocolate\n",
       "4        Maple\n",
       "Name: Name, dtype: object"
      ]
     },
     "execution_count": 193,
     "metadata": {},
     "output_type": "execute_result"
    }
   ],
   "source": [
    "data['Name']"
   ]
  },
  {
   "cell_type": "code",
   "execution_count": 163,
   "id": "4881b5c1",
   "metadata": {},
   "outputs": [],
   "source": [
    "data['id']=data['data'].str.extract('([0-9]{0,})',expand=True)"
   ]
  },
  {
   "cell_type": "code",
   "execution_count": 164,
   "id": "363a70c1",
   "metadata": {},
   "outputs": [
    {
     "data": {
      "text/plain": [
       "0    5001\n",
       "1    5002\n",
       "2    5005\n",
       "3    5003\n",
       "4    5004\n",
       "Name: id, dtype: object"
      ]
     },
     "execution_count": 164,
     "metadata": {},
     "output_type": "execute_result"
    }
   ],
   "source": [
    "data['id']"
   ]
  },
  {
   "cell_type": "code",
   "execution_count": 165,
   "id": "dee36509",
   "metadata": {},
   "outputs": [],
   "source": [
    "data['f']=data['data'].str.extract('([0-9]*[.][0-9]*)',expand=True)"
   ]
  },
  {
   "cell_type": "code",
   "execution_count": 166,
   "id": "0e8796a8",
   "metadata": {},
   "outputs": [
    {
     "data": {
      "text/plain": [
       "0    1.0002\n",
       "1    2000.0\n",
       "2     30.05\n",
       "3     4.004\n",
       "4       5.0\n",
       "Name: f, dtype: object"
      ]
     },
     "execution_count": 166,
     "metadata": {},
     "output_type": "execute_result"
    }
   ],
   "source": [
    "data['f']"
   ]
  },
  {
   "cell_type": "code",
   "execution_count": 167,
   "id": "acd96fb6",
   "metadata": {},
   "outputs": [],
   "source": [
    "data['date']=data['data'].str.extract('([0-9]*[-][0-9]*[-][0-9]*)',expand=True)"
   ]
  },
  {
   "cell_type": "code",
   "execution_count": 168,
   "id": "9f151ed3",
   "metadata": {},
   "outputs": [
    {
     "data": {
      "text/plain": [
       "0    2018-01-20\n",
       "1    2018-01-21\n",
       "2    2018-01-22\n",
       "3    2018-01-23\n",
       "4    2018-01-25\n",
       "Name: date, dtype: object"
      ]
     },
     "execution_count": 168,
     "metadata": {},
     "output_type": "execute_result"
    }
   ],
   "source": [
    "data['date']"
   ]
  },
  {
   "cell_type": "code",
   "execution_count": 169,
   "id": "1668693c",
   "metadata": {},
   "outputs": [
    {
     "data": {
      "text/html": [
       "<div>\n",
       "<style scoped>\n",
       "    .dataframe tbody tr th:only-of-type {\n",
       "        vertical-align: middle;\n",
       "    }\n",
       "\n",
       "    .dataframe tbody tr th {\n",
       "        vertical-align: top;\n",
       "    }\n",
       "\n",
       "    .dataframe thead th {\n",
       "        text-align: right;\n",
       "    }\n",
       "</style>\n",
       "<table border=\"1\" class=\"dataframe\">\n",
       "  <thead>\n",
       "    <tr style=\"text-align: right;\">\n",
       "      <th></th>\n",
       "      <th>data</th>\n",
       "      <th>Name</th>\n",
       "      <th>id</th>\n",
       "      <th>f</th>\n",
       "      <th>date</th>\n",
       "    </tr>\n",
       "  </thead>\n",
       "  <tbody>\n",
       "    <tr>\n",
       "      <th>0</th>\n",
       "      <td>5001 1.0002 None 2018-01-20</td>\n",
       "      <td>None</td>\n",
       "      <td>5001</td>\n",
       "      <td>1.0002</td>\n",
       "      <td>2018-01-20</td>\n",
       "    </tr>\n",
       "    <tr>\n",
       "      <th>1</th>\n",
       "      <td>5002 2000.0 Glazed 2018-01-21</td>\n",
       "      <td>Glazed</td>\n",
       "      <td>5002</td>\n",
       "      <td>2000.0</td>\n",
       "      <td>2018-01-21</td>\n",
       "    </tr>\n",
       "    <tr>\n",
       "      <th>2</th>\n",
       "      <td>5005 30.05   Sugar 2018-01-22</td>\n",
       "      <td>Sugar</td>\n",
       "      <td>5005</td>\n",
       "      <td>30.05</td>\n",
       "      <td>2018-01-22</td>\n",
       "    </tr>\n",
       "    <tr>\n",
       "      <th>3</th>\n",
       "      <td>5003 4.004   Chocolate 2018-01-23</td>\n",
       "      <td>Chocolate</td>\n",
       "      <td>5003</td>\n",
       "      <td>4.004</td>\n",
       "      <td>2018-01-23</td>\n",
       "    </tr>\n",
       "    <tr>\n",
       "      <th>4</th>\n",
       "      <td>5004 5.0   Maple 2018-01-25</td>\n",
       "      <td>Maple</td>\n",
       "      <td>5004</td>\n",
       "      <td>5.0</td>\n",
       "      <td>2018-01-25</td>\n",
       "    </tr>\n",
       "  </tbody>\n",
       "</table>\n",
       "</div>"
      ],
      "text/plain": [
       "                                data       Name    id       f        date\n",
       "0        5001 1.0002 None 2018-01-20       None  5001  1.0002  2018-01-20\n",
       "1      5002 2000.0 Glazed 2018-01-21     Glazed  5002  2000.0  2018-01-21\n",
       "2      5005 30.05   Sugar 2018-01-22      Sugar  5005   30.05  2018-01-22\n",
       "3  5003 4.004   Chocolate 2018-01-23  Chocolate  5003   4.004  2018-01-23\n",
       "4        5004 5.0   Maple 2018-01-25      Maple  5004     5.0  2018-01-25"
      ]
     },
     "execution_count": 169,
     "metadata": {},
     "output_type": "execute_result"
    }
   ],
   "source": [
    "data"
   ]
  },
  {
   "cell_type": "code",
   "execution_count": 172,
   "id": "ab8e1954",
   "metadata": {},
   "outputs": [],
   "source": [
    "capitilize= lambda x : x.upper()\n"
   ]
  },
  {
   "cell_type": "code",
   "execution_count": 173,
   "id": "479dc093",
   "metadata": {},
   "outputs": [
    {
     "data": {
      "text/plain": [
       "0         NONE\n",
       "1       GLAZED\n",
       "2        SUGAR\n",
       "3    CHOCOLATE\n",
       "4        MAPLE\n",
       "Name: Name, dtype: object"
      ]
     },
     "execution_count": 173,
     "metadata": {},
     "output_type": "execute_result"
    }
   ],
   "source": [
    "data['Name'].apply(capitilize)"
   ]
  },
  {
   "cell_type": "code",
   "execution_count": 2,
   "id": "953c2bdd",
   "metadata": {},
   "outputs": [],
   "source": [
    "data=pd.read_csv('E:DS/Datasets/mcdonalds_dataset.csv')"
   ]
  },
  {
   "cell_type": "code",
   "execution_count": 3,
   "id": "6d6cd2c3",
   "metadata": {},
   "outputs": [
    {
     "data": {
      "text/plain": [
       "(16671, 11)"
      ]
     },
     "execution_count": 3,
     "metadata": {},
     "output_type": "execute_result"
    }
   ],
   "source": [
    "data.shape"
   ]
  },
  {
   "cell_type": "code",
   "execution_count": 4,
   "id": "d67b7b10",
   "metadata": {},
   "outputs": [
    {
     "data": {
      "text/plain": [
       "Index(['lat', 'lon', 'alt', 'is_broken', 'is_active', 'dot', 'state', 'city',\n",
       "       'street', 'country', 'last_checked'],\n",
       "      dtype='object')"
      ]
     },
     "execution_count": 4,
     "metadata": {},
     "output_type": "execute_result"
    }
   ],
   "source": [
    "data.columns"
   ]
  },
  {
   "cell_type": "code",
   "execution_count": 5,
   "id": "1521f0c5",
   "metadata": {},
   "outputs": [
    {
     "data": {
      "text/html": [
       "<div>\n",
       "<style scoped>\n",
       "    .dataframe tbody tr th:only-of-type {\n",
       "        vertical-align: middle;\n",
       "    }\n",
       "\n",
       "    .dataframe tbody tr th {\n",
       "        vertical-align: top;\n",
       "    }\n",
       "\n",
       "    .dataframe thead th {\n",
       "        text-align: right;\n",
       "    }\n",
       "</style>\n",
       "<table border=\"1\" class=\"dataframe\">\n",
       "  <thead>\n",
       "    <tr style=\"text-align: right;\">\n",
       "      <th></th>\n",
       "      <th>lat</th>\n",
       "      <th>lon</th>\n",
       "      <th>alt</th>\n",
       "      <th>is_broken</th>\n",
       "      <th>is_active</th>\n",
       "      <th>dot</th>\n",
       "      <th>state</th>\n",
       "      <th>city</th>\n",
       "      <th>street</th>\n",
       "      <th>country</th>\n",
       "      <th>last_checked</th>\n",
       "    </tr>\n",
       "  </thead>\n",
       "  <tbody>\n",
       "    <tr>\n",
       "      <th>0</th>\n",
       "      <td>-73.988281</td>\n",
       "      <td>40.718830</td>\n",
       "      <td>0</td>\n",
       "      <td>False</td>\n",
       "      <td>True</td>\n",
       "      <td>working</td>\n",
       "      <td>NY</td>\n",
       "      <td>New York</td>\n",
       "      <td>114 Delancey St</td>\n",
       "      <td>USA</td>\n",
       "      <td>Checked 142 minutes ago</td>\n",
       "    </tr>\n",
       "    <tr>\n",
       "      <th>1</th>\n",
       "      <td>-74.005090</td>\n",
       "      <td>40.728794</td>\n",
       "      <td>0</td>\n",
       "      <td>False</td>\n",
       "      <td>True</td>\n",
       "      <td>working</td>\n",
       "      <td>NY</td>\n",
       "      <td>New York</td>\n",
       "      <td>208 Varick St</td>\n",
       "      <td>USA</td>\n",
       "      <td>Checked 142 minutes ago</td>\n",
       "    </tr>\n",
       "    <tr>\n",
       "      <th>2</th>\n",
       "      <td>-73.993408</td>\n",
       "      <td>40.729197</td>\n",
       "      <td>0</td>\n",
       "      <td>False</td>\n",
       "      <td>True</td>\n",
       "      <td>working</td>\n",
       "      <td>NY</td>\n",
       "      <td>New York</td>\n",
       "      <td>724 Broadway</td>\n",
       "      <td>USA</td>\n",
       "      <td>Checked 142 minutes ago</td>\n",
       "    </tr>\n",
       "    <tr>\n",
       "      <th>3</th>\n",
       "      <td>-73.985855</td>\n",
       "      <td>40.726555</td>\n",
       "      <td>0</td>\n",
       "      <td>False</td>\n",
       "      <td>True</td>\n",
       "      <td>working</td>\n",
       "      <td>NY</td>\n",
       "      <td>New York</td>\n",
       "      <td>102 1st Ave</td>\n",
       "      <td>USA</td>\n",
       "      <td>Checked 142 minutes ago</td>\n",
       "    </tr>\n",
       "    <tr>\n",
       "      <th>4</th>\n",
       "      <td>-73.991692</td>\n",
       "      <td>40.691383</td>\n",
       "      <td>0</td>\n",
       "      <td>True</td>\n",
       "      <td>True</td>\n",
       "      <td>broken</td>\n",
       "      <td>NY</td>\n",
       "      <td>Brooklyn</td>\n",
       "      <td>82 Court St</td>\n",
       "      <td>USA</td>\n",
       "      <td>Checked 142 minutes ago</td>\n",
       "    </tr>\n",
       "  </tbody>\n",
       "</table>\n",
       "</div>"
      ],
      "text/plain": [
       "         lat        lon  alt  is_broken  is_active      dot state      city  \\\n",
       "0 -73.988281  40.718830    0      False       True  working    NY  New York   \n",
       "1 -74.005090  40.728794    0      False       True  working    NY  New York   \n",
       "2 -73.993408  40.729197    0      False       True  working    NY  New York   \n",
       "3 -73.985855  40.726555    0      False       True  working    NY  New York   \n",
       "4 -73.991692  40.691383    0       True       True   broken    NY  Brooklyn   \n",
       "\n",
       "            street country             last_checked  \n",
       "0  114 Delancey St     USA  Checked 142 minutes ago  \n",
       "1    208 Varick St     USA  Checked 142 minutes ago  \n",
       "2     724 Broadway     USA  Checked 142 minutes ago  \n",
       "3      102 1st Ave     USA  Checked 142 minutes ago  \n",
       "4      82 Court St     USA  Checked 142 minutes ago  "
      ]
     },
     "execution_count": 5,
     "metadata": {},
     "output_type": "execute_result"
    }
   ],
   "source": [
    "data.head()"
   ]
  },
  {
   "cell_type": "code",
   "execution_count": 6,
   "id": "680582a6",
   "metadata": {},
   "outputs": [
    {
     "data": {
      "text/plain": [
       "lat             0\n",
       "lon             0\n",
       "alt             0\n",
       "is_broken       0\n",
       "is_active       0\n",
       "dot             0\n",
       "state           0\n",
       "city            8\n",
       "street          0\n",
       "country         0\n",
       "last_checked    0\n",
       "dtype: int64"
      ]
     },
     "execution_count": 6,
     "metadata": {},
     "output_type": "execute_result"
    }
   ],
   "source": [
    "data.isnull().sum()"
   ]
  },
  {
   "cell_type": "code",
   "execution_count": 8,
   "id": "1dba92d2",
   "metadata": {},
   "outputs": [],
   "source": [
    "data.to_csv('E:DS/Datasets/mcdonalds.csv')"
   ]
  },
  {
   "cell_type": "code",
   "execution_count": null,
   "id": "eb3b7f4c",
   "metadata": {},
   "outputs": [],
   "source": []
  }
 ],
 "metadata": {
  "kernelspec": {
   "display_name": "Python 3 (ipykernel)",
   "language": "python",
   "name": "python3"
  },
  "language_info": {
   "codemirror_mode": {
    "name": "ipython",
    "version": 3
   },
   "file_extension": ".py",
   "mimetype": "text/x-python",
   "name": "python",
   "nbconvert_exporter": "python",
   "pygments_lexer": "ipython3",
   "version": "3.9.7"
  },
  "varInspector": {
   "cols": {
    "lenName": 16,
    "lenType": 16,
    "lenVar": 40
   },
   "kernels_config": {
    "python": {
     "delete_cmd_postfix": "",
     "delete_cmd_prefix": "del ",
     "library": "var_list.py",
     "varRefreshCmd": "print(var_dic_list())"
    },
    "r": {
     "delete_cmd_postfix": ") ",
     "delete_cmd_prefix": "rm(",
     "library": "var_list.r",
     "varRefreshCmd": "cat(var_dic_list()) "
    }
   },
   "types_to_exclude": [
    "module",
    "function",
    "builtin_function_or_method",
    "instance",
    "_Feature"
   ],
   "window_display": false
  }
 },
 "nbformat": 4,
 "nbformat_minor": 5
}
